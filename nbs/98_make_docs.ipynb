{
 "cells": [
  {
   "cell_type": "code",
   "execution_count": null,
   "id": "2b1d6abf-1f5d-4677-83cd-44acbe960911",
   "metadata": {},
   "outputs": [],
   "source": [
    "# default_exp make_docs"
   ]
  },
  {
   "cell_type": "markdown",
   "id": "7f878cbc-3e90-4ceb-8633-79250de6d6b8",
   "metadata": {},
   "source": [
    "# SAX make docs\n",
    "> CLI: build jupyter-books based docs"
   ]
  },
  {
   "cell_type": "code",
   "execution_count": null,
   "id": "f3634360-8a88-4ee5-946a-be76bef07e5b",
   "metadata": {},
   "outputs": [],
   "source": [
    "# exporti\n",
    "from __future__ import annotations\n",
    "\n",
    "import glob\n",
    "import json\n",
    "import os\n",
    "import re\n",
    "import secrets\n",
    "import shutil\n",
    "import subprocess\n",
    "import sys\n",
    "from typing import Dict, Union\n",
    "\n",
    "from fastcore.imports import IN_IPYTHON"
   ]
  },
  {
   "cell_type": "code",
   "execution_count": null,
   "id": "8a13b1f1-2583-4a03-844c-4c7adb16e0d5",
   "metadata": {},
   "outputs": [],
   "source": [
    "# export\n",
    "MAGIC_COMMENTS = {\n",
    "    \"default_exp\": \"remove-cell\",\n",
    "    \"exporti\": \"remove-cell\",\n",
    "    \"export\": \"hide-input\",\n",
    "    \"exports\": None,\n",
    "    \"hide\": \"remove-cell\",\n",
    "    \"hide_input\": \"remove-input\",\n",
    "    \"hide_output\": \"remove-output\",\n",
    "    \"collapse_input\": \"hide-input\",\n",
    "    \"collapse_output\": \"hide-output\",\n",
    "}"
   ]
  },
  {
   "cell_type": "code",
   "execution_count": null,
   "id": "eba2d320-d904-4fce-bc2d-7d2a6762d834",
   "metadata": {},
   "outputs": [],
   "source": [
    "# export\n",
    "if IN_IPYTHON:\n",
    "    ROOT = os.path.abspath('..')\n",
    "else:\n",
    "    ROOT = os.path.abspath('.')"
   ]
  },
  {
   "cell_type": "code",
   "execution_count": null,
   "id": "684c8c32-e38f-49dd-8bca-29d622bd15c0",
   "metadata": {},
   "outputs": [],
   "source": [
    "# export\n",
    "def load_nb(path: str) -> Dict:\n",
    "    \"\"\" load a jupyter notebook as dictionary\n",
    "\n",
    "    Args:\n",
    "        path: the path of the notebook to load\n",
    "\n",
    "    Returns:\n",
    "        the notebook represented as a dictionary\n",
    "    \"\"\"\n",
    "    with open(path, \"r\") as file:\n",
    "        nb = json.load(file)\n",
    "    return nb"
   ]
  },
  {
   "cell_type": "code",
   "execution_count": null,
   "id": "1def075e-9283-46c3-8b24-c5e28fe8a42c",
   "metadata": {},
   "outputs": [],
   "source": [
    "# export\n",
    "def repository_path(*path_parts: str, not_exist_ok: bool=False) -> str:\n",
    "    \"\"\" Get and validate a path in the modelbuild repository\n",
    "\n",
    "    Args:\n",
    "        *path_parts: the path parts that will be joined together\n",
    "            relative to the root of the repository.\n",
    "        not_exist_ok: skip validation if True\n",
    "\n",
    "    Returns:\n",
    "        the absolute path of the referenced file.\n",
    "    \"\"\"\n",
    "    if not (os.path.exists(path:=os.path.join(ROOT, \"docs\"))):\n",
    "        raise FileNotFoundError(f\"docs path {path!r} not found!\")\n",
    "    if not (os.path.exists(path:=os.path.join(ROOT, \"nbs\"))):\n",
    "        raise FileNotFoundError(f\"nbs path {path!r} not found!\")\n",
    "    if not (os.path.exists(path:=os.path.join(ROOT, \"sax\"))):\n",
    "        raise FileNotFoundError(f\"sax path {path!r} not found!\")\n",
    "\n",
    "    path = os.path.join(ROOT, *path_parts)\n",
    "    if not not_exist_ok and not os.path.exists(path):\n",
    "        raise FileNotFoundError(f\"Path {path!r} does not exist.\")\n",
    "\n",
    "    return path"
   ]
  },
  {
   "cell_type": "code",
   "execution_count": null,
   "id": "3c59d762-0e92-4866-af26-01ecb68dbfbe",
   "metadata": {},
   "outputs": [],
   "source": [
    "# export\n",
    "def docs_path(*path_parts: str, not_exist_ok: bool=False) -> str:\n",
    "    return repository_path('docs', *path_parts, not_exist_ok=not_exist_ok)"
   ]
  },
  {
   "cell_type": "code",
   "execution_count": null,
   "id": "d8352da4-d0ca-44e3-a575-d903cf4ff778",
   "metadata": {},
   "outputs": [],
   "source": [
    "# export\n",
    "def save_nb(nb: Dict, path: str) -> str:\n",
    "    \"\"\" save a dictionary as a jupyter notebook\n",
    "\n",
    "    Args:\n",
    "        nb: the dictionary to convert into an ipynb file\n",
    "        path: the path to save the notebook under\n",
    "\n",
    "    Returns:\n",
    "        the path where the notebook was saved.\n",
    "    \"\"\"\n",
    "    path = os.path.abspath(path)\n",
    "    os.makedirs(os.path.dirname(path), exist_ok=True)\n",
    "    with open(path, \"w\") as file:\n",
    "        json.dump(nb, file, indent=2)\n",
    "    return path"
   ]
  },
  {
   "cell_type": "code",
   "execution_count": null,
   "id": "ad53d431-c5a8-452b-9d1a-5fe000c61d6f",
   "metadata": {},
   "outputs": [],
   "source": [
    "# export\n",
    "def strip_metadata(nb: Union[Dict, str]) -> Union[Dict,str]:\n",
    "    path = ''\n",
    "    if isinstance(nb, str):\n",
    "        path = nb\n",
    "        nb = load_nb(nb)\n",
    "    for cell in nb['cells']:\n",
    "        if not 'metadata' in cell:\n",
    "            continue\n",
    "        cell['metadata'] = {}\n",
    "    if path:\n",
    "        return save_nb(nb, path)\n",
    "    return path"
   ]
  },
  {
   "cell_type": "code",
   "execution_count": null,
   "id": "e2a943a3-243d-4f9f-88e4-c0d54ae05f41",
   "metadata": {},
   "outputs": [],
   "source": [
    "# exporti\n",
    "def iter_code_cells(nb):\n",
    "    for cell in nb.get('cells', []):\n",
    "        if not cell.get(\"cell_type\", \"\") == \"code\":\n",
    "            continue\n",
    "        yield cell"
   ]
  },
  {
   "cell_type": "code",
   "execution_count": null,
   "id": "1e440b7b-f924-492d-9758-28aff8a5794b",
   "metadata": {},
   "outputs": [],
   "source": [
    "# exporti\n",
    "def first_code_cell(nb):\n",
    "    try:\n",
    "        return next(iter_code_cells(nb))\n",
    "    except StopIteration:\n",
    "        return None"
   ]
  },
  {
   "cell_type": "code",
   "execution_count": null,
   "id": "ea0969d0-f0f9-420f-9101-fe0388458805",
   "metadata": {},
   "outputs": [],
   "source": [
    "# exporti\n",
    "def get_default_exp(nb):\n",
    "    first_cell = first_code_cell(nb) or {}\n",
    "    first_source = first_cell.get('source', [])\n",
    "    first_line = \"\" if not first_source else first_source[0]\n",
    "    default_exp = first_line.split(\"default_exp\")[-1].strip()\n",
    "    return default_exp"
   ]
  },
  {
   "cell_type": "code",
   "execution_count": null,
   "id": "f222ea40-577a-41b1-a950-891978b04a77",
   "metadata": {},
   "outputs": [],
   "source": [
    "# exporti\n",
    "def iter_function_names(source):\n",
    "    for line in source:\n",
    "        if not line.startswith(\"def \"):\n",
    "            continue\n",
    "        if line.startswith(\"def _\"):\n",
    "            continue\n",
    "        yield line.split(\"def \")[1].split(\"(\")[0]"
   ]
  },
  {
   "cell_type": "code",
   "execution_count": null,
   "id": "0d2e97d0-9adc-4766-90b1-bf756c05a118",
   "metadata": {},
   "outputs": [],
   "source": [
    "# export\n",
    "def docs_copy_nb(relpath, docsrelpath=None):\n",
    "    \"\"\"copy a single notebook from src to dst with modified docs metadata.\"\"\"\n",
    "    src = repository_path(relpath)\n",
    "    dst = docs_path((docsrelpath or relpath), not_exist_ok=True)\n",
    "    nb = load_nb(src)\n",
    "    nb_new = {**nb}\n",
    "    nb_new[\"cells\"] = []\n",
    "    module = get_default_exp(nb)\n",
    "\n",
    "    for cell in nb.get('cells', []):\n",
    "        if not cell.get(\"cell_type\", \"\") == \"code\":\n",
    "            nb_new[\"cells\"].append(cell)\n",
    "            continue\n",
    "            \n",
    "        cell_tags = cell.get(\"metadata\", {}).get(\"tags\", [])\n",
    "        source = cell.get(\"source\") or [\"\"]\n",
    "        line = source[0].strip()\n",
    "        \n",
    "        if not line.startswith(\"#\"):\n",
    "            nb_new[\"cells\"].append(cell)\n",
    "            continue\n",
    "            \n",
    "        keys = [k.strip() for k in line.split(\" \")]\n",
    "        keys = [k for k in keys if k in MAGIC_COMMENTS]\n",
    "        if keys:\n",
    "            del source[0]\n",
    "        for key in keys:\n",
    "            tag = MAGIC_COMMENTS[key]\n",
    "            if tag:\n",
    "                cell_tags.append(tag)\n",
    "        if len(cell_tags) > 0:\n",
    "            cell[\"metadata\"][\"tags\"] = cell_tags\n",
    "\n",
    "        if not 'remove-cell' in cell_tags:\n",
    "            for function_name in iter_function_names(source):\n",
    "                extra_cell = {\n",
    "                    \"cell_type\": \"markdown\",\n",
    "                    \"id\": secrets.token_hex(8),\n",
    "                    \"metadata\": {},\n",
    "                    \"source\": [\n",
    "                        \":::{eval-rst}\\n\",\n",
    "                        f\".. autofunction:: sax.{module}.{function_name}\\n\",\n",
    "                        \":::\\n\"\n",
    "                    ],\n",
    "                }\n",
    "                nb_new[\"cells\"].append(extra_cell)\n",
    "\n",
    "        cell[\"id\"] = secrets.token_hex(8)\n",
    "        nb_new[\"cells\"].append(cell)\n",
    "\n",
    "    os.makedirs(os.path.dirname(dst), exist_ok=True)\n",
    "    save_nb(nb_new, dst)\n",
    "    return dst"
   ]
  },
  {
   "cell_type": "code",
   "execution_count": null,
   "id": "c38897ec-1e2d-4c3f-b7d1-c71ecc6f0695",
   "metadata": {},
   "outputs": [],
   "source": [
    "# export\n",
    "def list_notebooks(dir):\n",
    "    return glob.glob(os.path.join(dir, \"**/*.ipynb\"), recursive=True)\n",
    "\n",
    "def list_zips(dir):\n",
    "    return glob.glob(os.path.join(dir, \"**/*.zip\"), recursive=True)"
   ]
  },
  {
   "cell_type": "code",
   "execution_count": null,
   "id": "62cd88c6-8140-40d6-b57d-8acb71ea75c8",
   "metadata": {},
   "outputs": [],
   "source": [
    "# export\n",
    "def docs_copy_dir(relpath):\n",
    "    main_src = repository_path(relpath)\n",
    "    for src in list_notebooks(main_src):\n",
    "        rel = os.path.relpath(src, repository_path())\n",
    "        docs_copy_nb(rel)\n",
    "    for src in list_zips(main_src):\n",
    "        rel = os.path.relpath(src, repository_path())\n",
    "        dst = docs_path(\"_build\", \"html\", rel, not_exist_ok=True)\n",
    "        os.makedirs(os.path.dirname(dst), exist_ok=True)\n",
    "        shutil.copy2(src, dst)"
   ]
  },
  {
   "cell_type": "code",
   "execution_count": null,
   "id": "1034e930-ba32-4d46-aedb-ecee99aa978f",
   "metadata": {},
   "outputs": [],
   "source": [
    "# export\n",
    "def docs_copy_simulations():\n",
    "    with_results, without_results = {}, {}\n",
    "    for fn in os.listdir(simulations_path()):\n",
    "        sim, ext = os.path.splitext(fn)\n",
    "        if ext != \".ipynb\":\n",
    "            continue\n",
    "        try:\n",
    "            with_results[sim] = get_nominal_result(sim)\n",
    "        except FileNotFoundError:\n",
    "            without_results[sim] = {'hash': None, 'params': get_default_params(simulations_path(f\"{sim}.ipynb\"))}\n",
    "        except ValueError:\n",
    "            without_results[sim] = {'hash': None, 'params': get_default_params(simulations_path(f\"{sim}.ipynb\"))}\n",
    "            #raise\n",
    "        \n",
    "    for k, r in with_results.items():\n",
    "        docs_copy_nb(f\"results/{k}/{r['hash']}/_simulated.ipynb\", f\"simulations/{k}.ipynb\")\n",
    "        \n",
    "    for k, r in without_results.items():\n",
    "        docs_copy_nb(f\"simulations/{k}.ipynb\", f\"simulations/{k}.ipynb\")\n",
    "        \n",
    "    shutil.copytree(simulations_path(\"img\"), docs_path(\"_build\", \"html\", \"simulations\", \"img\", not_exist_ok=True), dirs_exist_ok=True)\n",
    "    return with_results, without_results"
   ]
  },
  {
   "cell_type": "code",
   "execution_count": null,
   "id": "919f508e-7117-4fd9-882d-a96daa604ead",
   "metadata": {},
   "outputs": [],
   "source": [
    "# export\n",
    "def get_toc_part(toc, caption):\n",
    "    parts = [p for p in toc[\"parts\"] if caption == p[\"caption\"]]\n",
    "    try:\n",
    "        return parts[0]\n",
    "    except IndexError:\n",
    "        raise ValueError(f\"No TOC part with caption {caption!r} found.\")"
   ]
  },
  {
   "cell_type": "code",
   "execution_count": null,
   "id": "b010177e-030c-4b99-bd32-0a19987f8fd0",
   "metadata": {},
   "outputs": [],
   "source": [
    "# export\n",
    "def make_docs():\n",
    "    docs_copy_nb(\"index.ipynb\")\n",
    "    docs_copy_dir(\"nbs\")\n",
    "    docs_copy_dir(\"examples\")\n",
    "    os.chdir(docs_path())\n",
    "    subprocess.check_call([sys.executable.replace(\"python\", \"jupyter-book\"), \"build\", \".\"])"
   ]
  },
  {
   "cell_type": "code",
   "execution_count": null,
   "id": "9b9587b5-9e4e-4c8f-8d03-bad11019871b",
   "metadata": {},
   "outputs": [],
   "source": [
    "# export\n",
    "if __name__ == '__main__' and not IN_IPYTHON:\n",
    "    make_docs()"
   ]
  }
 ],
 "metadata": {
  "kernelspec": {
   "display_name": "sax",
   "language": "python",
   "name": "sax"
  }
 },
 "nbformat": 4,
 "nbformat_minor": 5
}
