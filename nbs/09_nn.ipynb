{
 "cells": [
  {
   "cell_type": "code",
   "execution_count": null,
   "id": "96bd487d",
   "metadata": {},
   "outputs": [],
   "source": [
    "# default_exp nn.__init__"
   ]
  },
  {
   "cell_type": "markdown",
   "id": "36903b9f",
   "metadata": {},
   "source": [
    "# Neural Networks\n",
    "\n",
    "> Utilitites for creating advanced neural network SAX Models"
   ]
  },
  {
   "cell_type": "code",
   "execution_count": null,
   "id": "77d6e728-9fff-4aed-8850-82a7183fdd68",
   "metadata": {},
   "outputs": [],
   "source": [
    "# export\n",
    "from __future__ import annotations"
   ]
  },
  {
   "cell_type": "code",
   "execution_count": null,
   "id": "0604d35c-e94e-4de4-9cb0-7e5d3d93e6e1",
   "metadata": {},
   "outputs": [],
   "source": [
    "# hide\n",
    "import os, sys; sys.stderr = open(os.devnull, \"w\")"
   ]
  },
  {
   "cell_type": "markdown",
   "id": "24790eed-f741-4d07-91c9-a731ebcfc3f0",
   "metadata": {},
   "source": [
    "## Check"
   ]
  },
  {
   "cell_type": "code",
   "execution_count": null,
   "id": "71ee14ba-949f-4025-8813-5a6bf01b8464",
   "metadata": {},
   "outputs": [],
   "source": [
    "try:\n",
    "    import jax\n",
    "except ImportError:\n",
    "    raise ImportError(\"[NO JAX] Cannot import sax.nn. Please install JAX first!\")"
   ]
  },
  {
   "cell_type": "markdown",
   "id": "75fbba73",
   "metadata": {},
   "source": [
    "## Loss"
   ]
  },
  {
   "cell_type": "code",
   "execution_count": null,
   "id": "49440282-5bbf-4c08-a93c-777e12c801dc",
   "metadata": {},
   "outputs": [],
   "source": [
    "# exports\n",
    "\n",
    "from sax.nn.loss import huber_loss as huber_loss\n",
    "from sax.nn.loss import l2_reg as l2_reg\n",
    "from sax.nn.loss import mse as mse"
   ]
  },
  {
   "cell_type": "markdown",
   "id": "1a18faa2",
   "metadata": {},
   "source": [
    "## Utils"
   ]
  },
  {
   "cell_type": "code",
   "execution_count": null,
   "id": "ca8cda05-1705-42b2-bc89-f428244302b1",
   "metadata": {},
   "outputs": [],
   "source": [
    "# exports\n",
    "\n",
    "from sax.nn.utils import (\n",
    "    cartesian_product as cartesian_product,\n",
    "    denormalize as denormalize,\n",
    "    get_normalization as get_normalization,\n",
    "    get_df_columns as get_df_columns,\n",
    "    normalize as normalize,\n",
    ")"
   ]
  },
  {
   "cell_type": "markdown",
   "id": "ef010b3c",
   "metadata": {},
   "source": [
    "## Core"
   ]
  },
  {
   "cell_type": "code",
   "execution_count": null,
   "id": "3ae35204-c398-47e8-a75d-280cf4aa65ff",
   "metadata": {},
   "outputs": [],
   "source": [
    "# exports\n",
    "\n",
    "from sax.nn.core import (\n",
    "    preprocess as preprocess,\n",
    "    dense as dense,\n",
    "    generate_dense_weights as generate_dense_weights,\n",
    ")"
   ]
  },
  {
   "cell_type": "markdown",
   "id": "5e96c647",
   "metadata": {},
   "source": [
    "## IO"
   ]
  },
  {
   "cell_type": "code",
   "execution_count": null,
   "id": "762617ca-5659-42c6-86b4-2d38d6237470",
   "metadata": {},
   "outputs": [],
   "source": [
    "# exports\n",
    "\n",
    "from sax.nn.io import (\n",
    "    load_nn_weights_json as load_nn_weights_json,\n",
    "    save_nn_weights_json as save_nn_weights_json,\n",
    "    get_available_sizes as get_available_sizes,\n",
    "    get_dense_weights_path as get_dense_weights_path,\n",
    "    get_norm_path as get_norm_path,\n",
    "    load_nn_dense as load_nn_dense,\n",
    ")"
   ]
  }
 ],
 "metadata": {
  "kernelspec": {
   "display_name": "sax",
   "language": "python",
   "name": "sax"
  }
 },
 "nbformat": 4,
 "nbformat_minor": 5
}
