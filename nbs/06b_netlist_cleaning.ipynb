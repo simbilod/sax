{
 "cells": [
  {
   "cell_type": "code",
   "execution_count": null,
   "id": "707a4e33-e04c-4c6f-a34f-d82ccb5b4723",
   "metadata": {},
   "outputs": [],
   "source": [
    "# default_exp netlist_cleaning"
   ]
  },
  {
   "cell_type": "markdown",
   "id": "160321f7-d133-4bb8-8015-b5fc48251bb0",
   "metadata": {},
   "source": [
    "# Netlist Cleaning\n",
    "\n",
    "> Graph Analysis and cleaning of a SAX Netlist"
   ]
  },
  {
   "cell_type": "code",
   "execution_count": null,
   "id": "77261888-7290-4a60-8b15-c3b9747cea64",
   "metadata": {},
   "outputs": [],
   "source": [
    "# export\n",
    "from collections import defaultdict\n",
    "from typing import Dict, List\n",
    "\n",
    "from natsort import natsorted\n",
    "from sax.backends.additive import graph_edges\n",
    "from sax.typing_ import SDict\n",
    "import networkx as nx\n",
    "\n",
    "try:\n",
    "    import jax.numpy as jnp\n",
    "    JAX_AVAILABLE = True\n",
    "except ImportError:\n",
    "    import numpy as jnp\n",
    "    JAX_AVAILABLE = False"
   ]
  },
  {
   "cell_type": "code",
   "execution_count": null,
   "id": "ca2dba2e-19a6-4b21-9b94-ea512df17f25",
   "metadata": {},
   "outputs": [],
   "source": [
    "netlist = {\n",
    "    \"instances\": {\n",
    "        \"lft\": \"coupler\",\n",
    "        \"top\": \"straight\",\n",
    "        \"btm\": \"straight\",\n",
    "        \"rgt\": \"coupler\",\n",
    "        \"lft_\": \"coupler\",\n",
    "        \"top_\": \"straight\",\n",
    "        \"btm_\": \"straight\",\n",
    "        \"rgt_\": \"coupler\",\n",
    "    },\n",
    "    \"connections\": {\n",
    "        \"lft,out0\": \"btm,in0\",\n",
    "        \"btm,out0\": \"rgt,in0\",\n",
    "        \"lft,out1\": \"top,in0\",\n",
    "        \"top,out0\": \"rgt,in1\",\n",
    "        \"lft_,out0\": \"btm_,in0\",\n",
    "        \"btm_,out0\": \"rgt_,in0\",\n",
    "        \"lft_,out1\": \"top_,in0\",\n",
    "        \"top_,out0\": \"rgt_,in1\",\n",
    "    },\n",
    "    \"ports\": {\n",
    "        \"in0\": \"lft,in0\",\n",
    "        \"in1\": \"lft,in1\",\n",
    "        \"out0\": \"rgt,out0\",\n",
    "        \"out1\": \"rgt,out1\",\n",
    "    },\n",
    "}"
   ]
  },
  {
   "cell_type": "code",
   "execution_count": null,
   "id": "c64061d5-3a64-4d23-824b-6d32f55e9f29",
   "metadata": {},
   "outputs": [],
   "source": [
    "# export\n",
    "def _get_connectivity_netlist(netlist):\n",
    "    connectivity_netlist = {\n",
    "        \"instances\": natsorted(netlist['instances']),\n",
    "        \"connections\": [\n",
    "            (c1.split(',')[0], c2.split(',')[0]) for c1, c2 in netlist['connections'].items()\n",
    "        ],\n",
    "        \"ports\": [(p, c.split(',')[0]) for p, c in netlist['ports'].items()],\n",
    "    }\n",
    "    return connectivity_netlist"
   ]
  },
  {
   "cell_type": "code",
   "execution_count": null,
   "id": "94020c97-6890-4fbe-83ec-ce115f76a283",
   "metadata": {},
   "outputs": [],
   "source": [
    "# export\n",
    "def _get_connectivity_graph(netlist):\n",
    "    graph = nx.Graph()\n",
    "    connectivity_netlist = _get_connectivity_netlist(netlist)\n",
    "    for c1, c2 in connectivity_netlist['connections']:\n",
    "        graph.add_edge(c1, c2)\n",
    "    for c1, c2 in connectivity_netlist['ports']:\n",
    "        graph.add_edge(c1, c2)\n",
    "    return graph"
   ]
  },
  {
   "cell_type": "code",
   "execution_count": null,
   "id": "3be6bc3f-c9b5-40c1-b7d2-d0bc5696b17d",
   "metadata": {},
   "outputs": [],
   "source": [
    "graph = _get_connectivity_graph(netlist)\n",
    "nx.draw(graph, with_labels=True)"
   ]
  },
  {
   "cell_type": "code",
   "execution_count": null,
   "id": "93b9618c-9c14-4693-9f1e-78d2edcaaf61",
   "metadata": {},
   "outputs": [],
   "source": [
    "# export\n",
    "def _get_nodes_to_remove(graph, netlist):\n",
    "    nodes = set()\n",
    "    for port in netlist['ports']:\n",
    "        nodes |= nx.descendants(graph, port)\n",
    "    nodes_to_remove = set(graph.nodes) - nodes\n",
    "    return list(nodes_to_remove)"
   ]
  },
  {
   "cell_type": "code",
   "execution_count": null,
   "id": "15d20c02-06fa-4586-8ba3-3cbfa63f8e14",
   "metadata": {},
   "outputs": [],
   "source": [
    "graph.remove_nodes_from(_get_nodes_to_remove(graph, netlist))\n",
    "nx.draw(graph, with_labels=True)"
   ]
  },
  {
   "cell_type": "code",
   "execution_count": null,
   "id": "88e938d7-9f04-4462-bd52-9fad6f953392",
   "metadata": {},
   "outputs": [],
   "source": [
    "# export\n",
    "def _remove_unused_instances_flat(flat_netlist):\n",
    "    flat_netlist = {**flat_netlist}\n",
    "    \n",
    "    graph = _get_connectivity_graph(flat_netlist)\n",
    "    names = set(_get_nodes_to_remove(graph, flat_netlist))\n",
    "    \n",
    "    flat_netlist['instances'] = {**flat_netlist['instances']}\n",
    "    for name in list(names):\n",
    "        del flat_netlist['instances'][name]\n",
    "        \n",
    "    flat_netlist['connections'] = {**flat_netlist['connections']}\n",
    "    for conn1, conn2 in list(flat_netlist['connections'].items()):\n",
    "        for conn in [conn1, conn2]:\n",
    "            name, _ = conn.split(',')\n",
    "            if name in names and conn1 in flat_netlist['connections']:\n",
    "                del flat_netlist['connections'][conn1]\n",
    "    \n",
    "    flat_netlist['ports'] = {**flat_netlist['ports']}\n",
    "    for pname, conn in list(flat_netlist['ports'].items()):\n",
    "        name, _ = conn.split(',')\n",
    "        if name in names and pname in flat_netlist['ports']:\n",
    "            del flat_netlist['ports'][pname]\n",
    "    \n",
    "    return flat_netlist\n",
    "\n",
    "def remove_unused_instances(recursive_netlist):\n",
    "    recursive_netlist = {**recursive_netlist}\n",
    "    \n",
    "    for name, flat_netlist in recursive_netlist.items():\n",
    "        recursive_netlist[name] = _remove_unused_instances_flat(flat_netlist)\n",
    "    \n",
    "    return recursive_netlist"
   ]
  },
  {
   "cell_type": "code",
   "execution_count": null,
   "id": "564c7b5f-a212-4afc-b4db-d7de5d92d7fa",
   "metadata": {},
   "outputs": [],
   "source": [
    "remove_unused_instances({'top_level': netlist, 'test': netlist})"
   ]
  }
 ],
 "metadata": {
  "kernelspec": {
   "display_name": "sax",
   "language": "python",
   "name": "sax"
  }
 },
 "nbformat": 4,
 "nbformat_minor": 5
}
