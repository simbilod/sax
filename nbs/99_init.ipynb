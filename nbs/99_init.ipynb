{
 "cells": [
  {
   "cell_type": "code",
   "execution_count": null,
   "id": "6c5b8ffd",
   "metadata": {},
   "outputs": [],
   "source": [
    "# default_exp __init__"
   ]
  },
  {
   "cell_type": "markdown",
   "id": "b4250b31",
   "metadata": {},
   "source": [
    "# SAX init\n",
    "\n",
    "> Import everything into the `sax` namespace:"
   ]
  },
  {
   "cell_type": "code",
   "execution_count": null,
   "id": "6e82c62a",
   "metadata": {},
   "outputs": [],
   "source": [
    "# hide\n",
    "import matplotlib.pyplot as plt\n",
    "from fastcore.test import test_eq\n",
    "from pytest import approx, raises\n",
    "\n",
    "import os, sys; sys.stderr = open(os.devnull, \"w\")"
   ]
  },
  {
   "cell_type": "code",
   "execution_count": null,
   "id": "d33aee88",
   "metadata": {},
   "outputs": [],
   "source": [
    "# exporti\n",
    "from __future__ import annotations\n",
    "\n",
    "__author__ = \"Floris Laporte\"\n",
    "__version__ = \"0.8.5\""
   ]
  },
  {
   "cell_type": "markdown",
   "id": "fe77e5e3",
   "metadata": {},
   "source": [
    "## External\n",
    "\n",
    "utils from other packages available in SAX for convenience:"
   ]
  },
  {
   "cell_type": "code",
   "execution_count": null,
   "id": "b0f1afc3",
   "metadata": {},
   "outputs": [],
   "source": [
    "# exports\n",
    "from functools import partial as partial\n",
    "from math import pi as pi\n",
    "\n",
    "from scipy.constants import c as c\n",
    "\n",
    "try:\n",
    "    from flax.core.frozen_dict import FrozenDict as FrozenDict\n",
    "except ImportError:\n",
    "    FrozenDict = dict"
   ]
  },
  {
   "cell_type": "markdown",
   "id": "3d3bde86",
   "metadata": {},
   "source": [
    "## Typing"
   ]
  },
  {
   "cell_type": "code",
   "execution_count": null,
   "id": "a5eb5c49-0f5e-48af-b8cc-95fd48793b5b",
   "metadata": {},
   "outputs": [],
   "source": [
    "# exports\n",
    "\n",
    "from sax import typing_ as typing\n",
    "from sax.typing_ import (\n",
    "    Array as Array,\n",
    "    ComplexFloat as ComplexFloat,\n",
    "    Float as Float,\n",
    "    Model as Model,\n",
    "    ModelFactory as ModelFactory,\n",
    "    Models as Models,\n",
    "    SCoo as SCoo,\n",
    "    SDense as SDense,\n",
    "    SDict as SDict,\n",
    "    Settings as Settings,\n",
    "    SType as SType,\n",
    "    is_complex as is_complex,\n",
    "    is_complex_float as is_complex_float,\n",
    "    is_float as is_float,\n",
    "    is_mixedmode as is_mixedmode,\n",
    "    is_model as is_model,\n",
    "    is_model_factory as is_model_factory,\n",
    "    is_multimode as is_multimode,\n",
    "    is_scoo as is_scoo,\n",
    "    is_sdense as is_sdense,\n",
    "    is_sdict as is_sdict,\n",
    "    is_singlemode as is_singlemode,\n",
    "    modelfactory as modelfactory,\n",
    "    scoo as scoo,\n",
    "    sdense as sdense,\n",
    "    sdict as sdict,\n",
    "    validate_model as validate_model,\n",
    ")"
   ]
  },
  {
   "cell_type": "markdown",
   "id": "345808d3",
   "metadata": {},
   "source": [
    "## Utils"
   ]
  },
  {
   "cell_type": "code",
   "execution_count": null,
   "id": "49eba6a7-3591-45ad-85ba-283025ca6361",
   "metadata": {},
   "outputs": [],
   "source": [
    "# exports\n",
    "\n",
    "from sax import utils as utils\n",
    "from sax.utils import (\n",
    "    block_diag as block_diag,\n",
    "    clean_string as clean_string,\n",
    "    copy_settings as copy_settings,\n",
    "    flatten_dict as flatten_dict,\n",
    "    get_inputs_outputs as get_inputs_outputs,\n",
    "    get_port_combinations as get_port_combinations,\n",
    "    get_ports as get_ports,\n",
    "    get_settings as get_settings,\n",
    "    grouped_interp as grouped_interp,\n",
    "    merge_dicts as merge_dicts,\n",
    "    mode_combinations as mode_combinations,\n",
    "    reciprocal as reciprocal,\n",
    "    rename_params as rename_params,\n",
    "    rename_ports as rename_ports,\n",
    "    try_float as try_float,\n",
    "    unflatten_dict as unflatten_dict,\n",
    "    update_settings as update_settings,\n",
    "    validate_multimode as validate_multimode,\n",
    "    validate_not_mixedmode as validate_not_mixedmode,\n",
    "    validate_sdict as validate_sdict,\n",
    "    validate_settings as validate_settings,\n",
    ")"
   ]
  },
  {
   "cell_type": "markdown",
   "id": "23287a09",
   "metadata": {},
   "source": [
    "## Multimode"
   ]
  },
  {
   "cell_type": "code",
   "execution_count": null,
   "id": "ad6007dc-6e1c-4715-aabc-5500d3c61d63",
   "metadata": {},
   "outputs": [],
   "source": [
    "# exports\n",
    "\n",
    "from sax import multimode as multimode\n",
    "from sax.multimode import (\n",
    "    multimode as multimode,\n",
    "    singlemode as singlemode,\n",
    ")"
   ]
  },
  {
   "cell_type": "markdown",
   "id": "c794abf0",
   "metadata": {},
   "source": [
    "## Models"
   ]
  },
  {
   "cell_type": "code",
   "execution_count": null,
   "id": "7c4bdbb9-a109-4c21-8ffb-228ab63fba93",
   "metadata": {},
   "outputs": [],
   "source": [
    "# exports\n",
    "\n",
    "from sax import models as models\n",
    "from sax.models import get_models as get_models, passthru as passthru"
   ]
  },
  {
   "cell_type": "markdown",
   "id": "b94feb62",
   "metadata": {},
   "source": [
    "## Netlist"
   ]
  },
  {
   "cell_type": "code",
   "execution_count": null,
   "id": "af4794f5-0357-43a3-930c-a5c459029016",
   "metadata": {},
   "outputs": [],
   "source": [
    "# exports\n",
    "\n",
    "from sax.netlist import netlist as netlist\n",
    "from sax.netlist import load_netlist as load_netlist\n",
    "from sax.netlist import load_recursive_netlist as load_recursive_netlist"
   ]
  },
  {
   "cell_type": "markdown",
   "id": "5792b5e9",
   "metadata": {},
   "source": [
    "## Circuit"
   ]
  },
  {
   "cell_type": "code",
   "execution_count": null,
   "id": "aacd61f7-5872-4145-877a-17baf4d33e2c",
   "metadata": {},
   "outputs": [],
   "source": [
    "# exports\n",
    "\n",
    "from sax.circuit import circuit as circuit"
   ]
  },
  {
   "cell_type": "markdown",
   "id": "e2d7c9fc",
   "metadata": {},
   "source": [
    "## Backend"
   ]
  },
  {
   "cell_type": "code",
   "execution_count": null,
   "id": "a7337096-bf64-46d6-a8f5-af3b28fc0cfe",
   "metadata": {},
   "outputs": [],
   "source": [
    "# exports\n",
    "\n",
    "from sax import backends as backends"
   ]
  },
  {
   "cell_type": "markdown",
   "id": "3ecf363e",
   "metadata": {},
   "source": [
    "## Patches"
   ]
  },
  {
   "cell_type": "code",
   "execution_count": null,
   "id": "8b29cfd7-726b-474b-9558-46c52b1b7b03",
   "metadata": {},
   "outputs": [],
   "source": [
    "# exports\n",
    "\n",
    "from sax import patched as _patched"
   ]
  }
 ],
 "metadata": {
  "kernelspec": {
   "display_name": "sax",
   "language": "python",
   "name": "sax"
  }
 },
 "nbformat": 4,
 "nbformat_minor": 5
}
