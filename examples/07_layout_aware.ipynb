{
 "cells": [
  {
   "cell_type": "markdown",
   "id": "18bbf5e0-148e-4f1a-aa90-f11eaafcb90a",
   "metadata": {},
   "source": [
    "# Layout Aware Monte Carlo with GDSFactory\n",
    "> Towards layout-aware optimization and monte-carlo simulations"
   ]
  },
  {
   "cell_type": "code",
   "execution_count": null,
   "id": "db18bcef-a20a-43aa-99af-1a77a7b8c3cd",
   "metadata": {},
   "outputs": [],
   "source": [
    "import itertools\n",
    "import sys\n",
    "from functools import partial\n",
    "from typing import List\n",
    "\n",
    "import gdsfactory as gf # conda install gdsfactory\n",
    "import meep # conda install pymeep=\\*=mpi_mpich_\\*\n",
    "import jax\n",
    "import jax.example_libraries.optimizers as opt\n",
    "import jax.numpy as jnp\n",
    "import matplotlib.pyplot as plt\n",
    "import numpy as np\n",
    "import sax\n",
    "from numpy.fft import fft2, fftfreq, fftshift, ifft2\n",
    "from tqdm.notebook import tqdm, trange"
   ]
  },
  {
   "cell_type": "code",
   "execution_count": null,
   "id": "e82b3a32-2706-4732-b1c7-09fa5d5b90ea",
   "metadata": {},
   "outputs": [],
   "source": [
    "# In interactive notebooks it's often pretty annoying to have a cache...\n",
    "# let's disable gdsfactory cache with this horrible one-liner 🙂\n",
    "sys.modules['gdsfactory.cell'].CACHE = type('FakeCache', (dict,), {'__setitem__': (lambda *args: None)})()"
   ]
  },
  {
   "cell_type": "markdown",
   "id": "55f847fe-9523-4b8e-9dc5-c30333ec2775",
   "metadata": {},
   "source": [
    "## Simple MZI Layout"
   ]
  },
  {
   "cell_type": "code",
   "execution_count": null,
   "id": "b68ac873-a02e-4d43-aebb-3523367e2b51",
   "metadata": {},
   "outputs": [],
   "source": [
    "@gf.cell\n",
    "def simple_mzi():\n",
    "    c = gf.Component()\n",
    "    \n",
    "    # instances\n",
    "    mmi_in = gf.components.mmi1x2()\n",
    "    mmi_out = gf.components.mmi2x2()\n",
    "    bend = gf.components.bend_euler()\n",
    "    half_delay_straight = gf.components.straight(length=10.0)\n",
    "    \n",
    "    # references (sax convention: vars ending in underscore are references)\n",
    "    mmi_in_ = c << mmi_in\n",
    "    mmi_out_ = c << mmi_out\n",
    "    straight_top1_ = c << half_delay_straight\n",
    "    straight_top2_ = c << half_delay_straight\n",
    "    bend_top1_ = c << bend\n",
    "    bend_top2_ = (c << bend).mirror()\n",
    "    bend_top3_ = (c << bend).mirror()\n",
    "    bend_top4_ = c << bend\n",
    "    bend_btm1_ = (c << bend).mirror()\n",
    "    bend_btm2_ = c << bend\n",
    "    bend_btm3_ = c << bend\n",
    "    bend_btm4_ = (c << bend).mirror()\n",
    "\n",
    "    # connections\n",
    "    bend_top1_.connect('o1', mmi_in_.ports['o2'])\n",
    "    straight_top1_.connect('o1', bend_top1_.ports['o2'])\n",
    "    bend_top2_.connect('o1', straight_top1_.ports['o2'])\n",
    "    bend_top3_.connect('o1', bend_top2_.ports['o2'])\n",
    "    straight_top2_.connect('o1', bend_top3_.ports['o2'])\n",
    "    bend_top4_.connect('o1', straight_top2_.ports['o2'])\n",
    "\n",
    "    bend_btm1_.connect('o1', mmi_in_.ports['o3'])\n",
    "    bend_btm2_.connect('o1', bend_btm1_.ports['o2'])\n",
    "    bend_btm3_.connect('o1', bend_btm2_.ports['o2'])\n",
    "    bend_btm4_.connect('o1', bend_btm3_.ports['o2'])\n",
    "\n",
    "    mmi_out_.connect(\"o1\", bend_btm4_.ports['o2'])\n",
    "    \n",
    "    # ports\n",
    "    c.add_port('o1', port=mmi_in_.ports['o1'], )\n",
    "    c.add_port('o2', port=mmi_out_.ports['o3'])\n",
    "    c.add_port('o3', port=mmi_out_.ports['o4'])\n",
    "    return c"
   ]
  },
  {
   "cell_type": "code",
   "execution_count": null,
   "id": "3b12f9d2-7bbd-4a49-9744-fd1bfb6d5cf0",
   "metadata": {},
   "outputs": [],
   "source": [
    "mzi = simple_mzi()\n",
    "mzi"
   ]
  },
  {
   "cell_type": "markdown",
   "id": "49a81eb1-8dcb-4f46-a879-393c258c9ce5",
   "metadata": {},
   "source": [
    "## Simulate MZI\n",
    "\n",
    "We used the following components to construct the MZI circuit:\n",
    "\n",
    "- mmi1x2\n",
    "- mmi2x2\n",
    "- straight\n",
    "- bend_euler"
   ]
  },
  {
   "cell_type": "markdown",
   "id": "6ad7a01b-4df3-4036-a168-7b417783f654",
   "metadata": {},
   "source": [
    "We need a model for each of those components to be able to simulate the circuit with SAX. Let's create some dummy models for now."
   ]
  },
  {
   "cell_type": "code",
   "execution_count": null,
   "id": "4f03671b-3778-4600-b982-8f384bc67e1b",
   "metadata": {},
   "outputs": [],
   "source": [
    "def mmi1x2():\n",
    "    S = {\n",
    "        (\"o1\", \"o2\"): 0.5**0.5,\n",
    "        (\"o1\", \"o3\"): 0.5**0.5,\n",
    "    }\n",
    "    return sax.reciprocal(S)"
   ]
  },
  {
   "cell_type": "code",
   "execution_count": null,
   "id": "913b0d59-4e77-413f-9bd3-562ba6f1166b",
   "metadata": {},
   "outputs": [],
   "source": [
    "def mmi2x2():\n",
    "    S = {\n",
    "        (\"o1\", \"o3\"): 0.5**0.5,\n",
    "        (\"o1\", \"o4\"): 1j * 0.5**0.5,\n",
    "        (\"o2\", \"o3\"): 1j * 0.5**0.5,\n",
    "        (\"o2\", \"o4\"): 0.5**0.5,\n",
    "    }\n",
    "    return sax.reciprocal(S)"
   ]
  },
  {
   "cell_type": "code",
   "execution_count": null,
   "id": "d2df6d32-8d3a-46ee-8e57-f99bd7c0fc13",
   "metadata": {},
   "outputs": [],
   "source": [
    "def straight(length=10.0, width=0.5):\n",
    "    S = {\n",
    "        (\"o1\", \"o2\"): 1.0 # we'll improve this model later!\n",
    "    }\n",
    "    return sax.reciprocal(S)"
   ]
  },
  {
   "cell_type": "code",
   "execution_count": null,
   "id": "c52dcfa2-a05d-40db-b9b1-5c1bc90b0743",
   "metadata": {},
   "outputs": [],
   "source": [
    "def bend_euler(length= 10.0, width=0.5, dy=10.0, radius_min=7, radius=10):\n",
    "    return straight(length=length, width=width) # stub with straight for now"
   ]
  },
  {
   "cell_type": "markdown",
   "id": "3cad045c-1b77-4f04-b989-90f7fe996988",
   "metadata": {},
   "source": [
    "Let's create a SAX circuit with our very simple placeholder models:"
   ]
  },
  {
   "cell_type": "code",
   "execution_count": null,
   "id": "46978016-4573-4315-b038-1d1af3af1756",
   "metadata": {},
   "outputs": [],
   "source": [
    "models={'mmi1x2': mmi1x2, 'mmi2x2': mmi2x2, 'straight': straight, 'bend_euler': bend_euler}\n",
    "mzi1, _ = sax.circuit(mzi.get_netlist_recursive(), models=models)\n",
    "mzi1?"
   ]
  },
  {
   "cell_type": "markdown",
   "id": "909f66df-2ea7-4d21-ac84-8d50282b3310",
   "metadata": {},
   "source": [
    "the resulting circuit is just a model function on its own! Hence, calling it will give the result:"
   ]
  },
  {
   "cell_type": "code",
   "execution_count": null,
   "id": "10579bda-3bf8-4e7f-8ccf-8f80355b97e1",
   "metadata": {},
   "outputs": [],
   "source": [
    "mzi1()"
   ]
  },
  {
   "cell_type": "markdown",
   "id": "cd1c11d4-36fb-4973-82f9-97d6bbd1fe9f",
   "metadata": {},
   "source": [
    "## Waveguide Model\n",
    "\n",
    "Our waveguide model is not very good (it just has 100% transmission and no phase). Let's do something about the phase calculation. To do this, we need to find the effective index of the waveguide in relation to its parameters. We can use meep to obtain the waveguide parameters. Let's use gdsfactory's convenient `find_modes_waveguide` function to find the waveguide modes. This function uses `mpb` under the hood."
   ]
  },
  {
   "cell_type": "code",
   "execution_count": null,
   "id": "84882c43-2941-4ca6-980a-5d93a34f5bf4",
   "metadata": {},
   "outputs": [],
   "source": [
    "def silicon_index(wl):\n",
    "    \"\"\" a rudimentary silicon refractive index model \"\"\"\n",
    "    a, b = 0.2411478522088102, 3.3229394315868976\n",
    "    return a / wl + b"
   ]
  },
  {
   "cell_type": "code",
   "execution_count": null,
   "id": "f5ff734a-f493-41a0-a000-ed7d8fc5abf6",
   "metadata": {},
   "outputs": [],
   "source": [
    "from gdsfactory.simulation.modes import find_modes_waveguide\n",
    "\n",
    "wavelengths = np.linspace(1.5, 1.6, 10)\n",
    "widths = np.linspace(0.4, 0.6, 5)\n",
    "\n",
    "wavelengths, widths = np.mgrid[1.5:1.6:10j,0.4:0.6:5j]\n",
    "neffs = np.zeros_like(wavelengths)\n",
    "neffs_ = neffs.ravel()\n",
    "\n",
    "for i, (wl, w) in enumerate(zip(tqdm(wavelengths.ravel()), widths.ravel())):\n",
    "    modes = find_modes_waveguide(wavelength=wl, wg_width=w, mode_number=1, wg_thickness=0.22, slab_thickness=0.0, ncore=silicon_index(wl), nclad=1.4)\n",
    "    neffs_[i] = modes[1].neff"
   ]
  },
  {
   "cell_type": "code",
   "execution_count": null,
   "id": "3fa32b4e-fc43-46ea-8440-7b2449a52272",
   "metadata": {},
   "outputs": [],
   "source": [
    "def visualize_mode(mode, field):\n",
    "    field, comp = list(field)\n",
    "    idx = ['x', 'y', 'z'].index(comp)\n",
    "    x, y = getattr(mode, 'y'), getattr(mode, 'z')\n",
    "    Y, X = np.meshgrid(y, x)\n",
    "    mode = np.abs(getattr(mode, field)[..., 0, idx])**2\n",
    "    plt.contour(X, Y, mode, cmap=\"inferno\", levels=np.linspace(mode.min(), mode.max(), 8))\n",
    "    plt.colorbar(label=\"mode\")\n",
    "    plt.grid(True, alpha=0.4)\n",
    "    plt.xlim(X.min(), X.max())\n",
    "    plt.ylim(Y.min(), Y.max())\n",
    "    plt.xlabel(\"y\")\n",
    "    plt.ylabel(\"z\")\n",
    "    plt.axis(\"scaled\")\n",
    "    plt.grid(True)\n",
    "    plt.show()"
   ]
  },
  {
   "cell_type": "code",
   "execution_count": null,
   "id": "e147bc6c-b2f1-43cc-828f-261b7490eff5",
   "metadata": {},
   "outputs": [],
   "source": [
    "visualize_mode(modes[1], \"Hz\")"
   ]
  },
  {
   "cell_type": "code",
   "execution_count": null,
   "id": "27c56455-6c41-433e-af97-8fa4b2a5c96e",
   "metadata": {},
   "outputs": [],
   "source": [
    "plt.pcolormesh(wavelengths, widths, neffs)\n",
    "plt.xlabel(\"λ [μm]\")\n",
    "plt.ylabel(\"width [μm]\")\n",
    "plt.show()"
   ]
  },
  {
   "cell_type": "code",
   "execution_count": null,
   "id": "e8990e26-d434-41b3-8c46-300057eecb25",
   "metadata": {},
   "outputs": [],
   "source": [
    "_grid = [jnp.sort(jnp.unique(wavelengths)), jnp.sort(jnp.unique(widths))]\n",
    "_data = jnp.asarray(neffs)\n",
    "\n",
    "@jax.jit\n",
    "def _get_coordinate(arr1d: jnp.ndarray, value: jnp.ndarray):\n",
    "    return jnp.interp(value, arr1d, jnp.arange(arr1d.shape[0]))\n",
    "\n",
    "@jax.jit\n",
    "def _get_coordinates(arrs1d: List[jnp.ndarray], values: jnp.ndarray):\n",
    "    # don't use vmap as arrays in arrs1d could have different shapes...\n",
    "    return jnp.array([_get_coordinate(a, v) for a, v in zip(arrs1d, values)])\n",
    "\n",
    "@jax.jit\n",
    "def neff(wl=1.55, width=0.5):\n",
    "    params = jnp.stack(jnp.broadcast_arrays(jnp.asarray(wl), jnp.asarray(width)), 0)\n",
    "    coords =_get_coordinates(_grid, params)\n",
    "    return jax.scipy.ndimage.map_coordinates(_data, coords, 1, mode=\"nearest\")\n",
    "\n",
    "neff(wl=[1.52, 1.58], width=[0.5, 0.55])"
   ]
  },
  {
   "cell_type": "code",
   "execution_count": null,
   "id": "d47b524e-3625-4261-b0a7-085348a0cb49",
   "metadata": {},
   "outputs": [],
   "source": [
    "wavelengths_ = np.linspace(wavelengths.min(), wavelengths.max(), 100)\n",
    "widths_ = np.linspace(widths.min(), widths.max(), 100)\n",
    "wavelengths_, widths_ = np.meshgrid(wavelengths_, widths_)\n",
    "neffs_ = neff(wavelengths_, widths_)\n",
    "plt.pcolormesh(wavelengths_, widths_, neffs_)\n",
    "plt.xlabel(\"λ [μm]\")\n",
    "plt.ylabel(\"width [μm]\")\n",
    "plt.show()"
   ]
  },
  {
   "cell_type": "code",
   "execution_count": null,
   "id": "918ecf26-9f39-4b27-8503-5f2043068c90",
   "metadata": {},
   "outputs": [],
   "source": [
    "def straight(wl=1.55, length=10.0, width=0.5):\n",
    "    S = {\n",
    "        (\"o1\", \"o2\"): jnp.exp(2j * np.pi * neff(wl=wl, width=width) / wl * length),\n",
    "    }\n",
    "    return sax.reciprocal(S)"
   ]
  },
  {
   "cell_type": "markdown",
   "id": "d8e3d951-a2fc-494c-b23c-4c888510bf22",
   "metadata": {},
   "source": [
    "Even though this still is lossless transmission, we're at least modeling the phase correctly."
   ]
  },
  {
   "cell_type": "code",
   "execution_count": null,
   "id": "c047c57e-7aa8-40d6-a2dc-dced77a886de",
   "metadata": {},
   "outputs": [],
   "source": [
    "straight()"
   ]
  },
  {
   "cell_type": "markdown",
   "id": "726425f8-7299-49bf-b32d-da5c666ffc7b",
   "metadata": {},
   "source": [
    "## Simulate MZI again"
   ]
  },
  {
   "cell_type": "code",
   "execution_count": null,
   "id": "8b1ae4da-a7e2-44b6-94ee-d7af68da5610",
   "metadata": {},
   "outputs": [],
   "source": [
    "models['straight'] = straight\n",
    "mzi2, _ = sax.circuit(mzi.get_netlist_recursive(), models=models)\n",
    "mzi2()"
   ]
  },
  {
   "cell_type": "code",
   "execution_count": null,
   "id": "ef90611b-66cb-4889-9325-5e10f6646c9b",
   "metadata": {},
   "outputs": [],
   "source": [
    "wl = jnp.linspace(1.51, 1.59, 1000)\n",
    "S = mzi2(wl=wl)\n",
    "plt.plot(wl, abs(S[\"o1\", \"o2\"]) ** 2)\n",
    "plt.ylim(-0.05, 1.05)\n",
    "plt.xlabel(\"λ [μm]\")\n",
    "plt.ylabel(\"T\")\n",
    "plt.ylim(-0.05, 1.05)\n",
    "plt.grid(True)\n",
    "plt.show()"
   ]
  },
  {
   "cell_type": "markdown",
   "id": "327c9763-8a84-4ce2-991f-e79dea46113d",
   "metadata": {},
   "source": [
    "## Optimize MZI"
   ]
  },
  {
   "cell_type": "markdown",
   "id": "2b7b0184-274f-49df-9ffc-e6d4a9dfbc58",
   "metadata": {},
   "source": [
    "We'd like to optimize an MZI such that one of the minima is at 1550nm. To do this, we need to define a loss function for the circuit at 1550nm. This function should take the parameters that you want to optimize as positional arguments:"
   ]
  },
  {
   "cell_type": "code",
   "execution_count": null,
   "id": "6243cba9-ce4a-4327-a68b-2ee3e2b9c1f4",
   "metadata": {},
   "outputs": [],
   "source": [
    "@jax.jit\n",
    "def loss_fn(delta_length):\n",
    "    S = mzi2(\n",
    "        wl=1.55,\n",
    "        straight_25p5_15p625={\"length\": delta_length / 2},\n",
    "        straight_45p5_15p625={\"length\": delta_length / 2},\n",
    "    )\n",
    "    return jnp.mean(jnp.abs(S[\"o1\", \"o2\"]) ** 2)"
   ]
  },
  {
   "cell_type": "markdown",
   "id": "f84dd8eb-cdd4-43c4-9a33-39677dca6438",
   "metadata": {},
   "source": [
    "We can use this loss function to define a grad function which works on the parameters of the loss function:"
   ]
  },
  {
   "cell_type": "code",
   "execution_count": null,
   "id": "a3641d43-7de4-4211-bd95-02d4509111e6",
   "metadata": {},
   "outputs": [],
   "source": [
    "grad_fn = jax.jit(\n",
    "    jax.grad(\n",
    "        loss_fn,\n",
    "        argnums=0,  # JAX gradient function for the first positional argument, jitted\n",
    "    )\n",
    ")"
   ]
  },
  {
   "cell_type": "markdown",
   "id": "b431ece1-c65a-4526-be48-1668270ec3ef",
   "metadata": {},
   "source": [
    "Next, we need to define a JAX optimizer, which on its own is nothing more than three more functions:  an initialization function with which to initialize the optimizer state, an update function which will update the optimizer state (and with it the model parameters). The third function that's being returned will give the model parameters given the optimizer state."
   ]
  },
  {
   "cell_type": "code",
   "execution_count": null,
   "id": "c2f4c30c-a000-4d80-9b6f-97af499e3b4d",
   "metadata": {},
   "outputs": [],
   "source": [
    "initial_delta_length = 10.0\n",
    "init_fn, update_fn, params_fn = opt.adam(step_size=0.1)\n",
    "state = init_fn(initial_delta_length)"
   ]
  },
  {
   "cell_type": "markdown",
   "id": "8ec26547-c39c-42d9-af43-9be940f76b69",
   "metadata": {},
   "source": [
    "Given all this, a single training step can be defined:"
   ]
  },
  {
   "cell_type": "code",
   "execution_count": null,
   "id": "eede579e-cf88-43fd-8d43-c888d1e07bba",
   "metadata": {},
   "outputs": [],
   "source": [
    "def step_fn(step, state):\n",
    "    params = params_fn(state)\n",
    "    loss = loss_fn(params)\n",
    "    grad = grad_fn(params)\n",
    "    state = update_fn(step, grad, state)\n",
    "    return loss, state"
   ]
  },
  {
   "cell_type": "markdown",
   "id": "ed8cbb34-889a-4cbd-85ca-ad5912a26acc",
   "metadata": {},
   "source": [
    "And we can use this step function to start the training of the MZI:"
   ]
  },
  {
   "cell_type": "code",
   "execution_count": null,
   "id": "d2533da9-52eb-44c8-8426-2f5210fb342d",
   "metadata": {},
   "outputs": [],
   "source": [
    "for step in (pb:=trange(300)): # the first two iterations take a while because the circuit is being jitted...\n",
    "    loss, state = step_fn(step, state)\n",
    "    pb.set_postfix(loss=f\"{loss:.6f}\")"
   ]
  },
  {
   "cell_type": "code",
   "execution_count": null,
   "id": "f49a3fa7-1993-48d9-ada9-4caa9794fa42",
   "metadata": {},
   "outputs": [],
   "source": [
    "delta_length = params_fn(state)\n",
    "delta_length"
   ]
  },
  {
   "cell_type": "markdown",
   "id": "23ac6709-d904-4bd0-b9a1-d34a4e7beae7",
   "metadata": {},
   "source": [
    "Let's see what we've got over a range of wavelengths:"
   ]
  },
  {
   "cell_type": "code",
   "execution_count": null,
   "id": "87395c19-26fc-4fca-b9d5-5a1bf3a7cfb2",
   "metadata": {},
   "outputs": [],
   "source": [
    "S = mzi2(\n",
    "    wl=wl,\n",
    "    straight_25p5_15p625={\"length\": delta_length / 2},\n",
    "    straight_45p5_15p625={\"length\": delta_length / 2},\n",
    ")\n",
    "plt.plot(wl * 1e3, abs(S[\"o1\", \"o2\"]) ** 2)\n",
    "plt.xlabel(\"λ [nm]\")\n",
    "plt.ylabel(\"T\")\n",
    "plt.plot([1550, 1550], [-1, 2], ls=\":\", color=\"black\")\n",
    "plt.ylim(-0.05, 1.05)\n",
    "plt.grid(True)\n",
    "plt.show()"
   ]
  },
  {
   "cell_type": "markdown",
   "id": "cb6c0cb7-5d9b-4449-9102-4aced9882763",
   "metadata": {},
   "source": [
    "Note that we could've just as well optimized the waveguide width:"
   ]
  },
  {
   "cell_type": "code",
   "execution_count": null,
   "id": "8e635add-d883-4f0b-b6c8-14c27df303af",
   "metadata": {},
   "outputs": [],
   "source": [
    "@jax.jit\n",
    "def loss_fn(width):\n",
    "    S = mzi2(\n",
    "        wl=1.55,\n",
    "        straight_25p5_15p625={\"width\": width},\n",
    "        straight_45p5_15p625={\"width\": width},\n",
    "    )\n",
    "    return jnp.mean(jnp.abs(S[\"o1\", \"o2\"]) ** 2)\n",
    "grad_fn = jax.jit(\n",
    "    jax.grad(\n",
    "        loss_fn,\n",
    "        argnums=0,  # JAX gradient function for the first positional argument, jitted\n",
    "    )\n",
    ")\n",
    "initial_width = 0.5\n",
    "init_fn, update_fn, params_fn = opt.adam(step_size=0.01)\n",
    "state = init_fn(initial_width)\n",
    "for step in (pb:=trange(300)): # the first two iterations take a while because the circuit is being jitted...\n",
    "    loss, state = step_fn(step, state)\n",
    "    pb.set_postfix(loss=f\"{loss:.6f}\")\n",
    "\n",
    "optim_width = params_fn(state)\n",
    "S = Sw = mzi2(\n",
    "    wl=wl,\n",
    "    straight_25p5_15p625={\"width\": optim_width},\n",
    "    straight_45p5_15p625={\"width\": optim_width},\n",
    ")\n",
    "plt.plot(wl * 1e3, abs(S[\"o1\", \"o2\"]) ** 2)\n",
    "plt.xlabel(\"λ [nm]\")\n",
    "plt.ylabel(\"T\")\n",
    "plt.plot([1550, 1550], [-1, 2], color=\"black\", ls=\":\")\n",
    "plt.ylim(-0.05, 1.05)\n",
    "plt.grid(True)\n",
    "plt.show()"
   ]
  },
  {
   "cell_type": "markdown",
   "id": "783ccb78-83a4-4a8b-96e3-e74771fa6dda",
   "metadata": {},
   "source": [
    "## Layout-aware Monte Carlo\n",
    "\n",
    "Let's assume the waveguide width changes with a certain correlation length. We can create a 'wafermap' of width variations by randomly varying the width and low pass filtering with a spatial frequency being the inverse of the correlation length (there are probably better ways to do this, but this works for this tutorial)."
   ]
  },
  {
   "cell_type": "code",
   "execution_count": null,
   "id": "bfc5a963-561f-459c-b0d5-c15bbaa6c05d",
   "metadata": {},
   "outputs": [],
   "source": [
    "def create_wafermaps(placements, correlation_length=1.0, num_maps=1, mean=0.0, std=1.0):\n",
    "    dx = dy = correlation_length / 200\n",
    "    xs, ys = [p['x'] for p in placements.values()], [p['y'] for p in placements.values()]\n",
    "    xmin, xmax, ymin, ymax = min(xs), max(xs), min(ys), max(ys)\n",
    "    wx, wy = xmax - xmin, ymax-ymin\n",
    "    xmin, xmax, ymin, ymax = xmin - wx, xmax + wx, ymin - wy, ymax + wy\n",
    "    x, y = np.arange(xmin, xmax+dx, dx), np.arange(ymin, ymax+dy, dy)\n",
    "    W0 = np.random.randn(num_maps, x.shape[0], y.shape[0])\n",
    "\n",
    "    fx, fy = fftshift(fftfreq(x.shape[0], d=x[1]-x[0])), fftshift(fftfreq(y.shape[0], d=y[1]-y[0]))\n",
    "    fY, fX = np.meshgrid(fy, fx)\n",
    "\n",
    "    fW = fftshift(fft2(W0))\n",
    "    \n",
    "    if correlation_length >= min(x.shape[0], y.shape[0]):\n",
    "        fW = np.zeros_like(fW)\n",
    "    else:\n",
    "        fW = np.where(np.sqrt(fX**2 + fY**2)[None] > 1/correlation_length, 0, fW)\n",
    "\n",
    "    W = np.abs(fftshift(ifft2(fW)))**2\n",
    "    \n",
    "    mean_ = W.mean(1, keepdims=True).mean(2, keepdims=True)\n",
    "    \n",
    "    std_ = W.std(1, keepdims=True).std(2, keepdims=True)\n",
    "    if (std_ == 0).all(): std_ = 1\n",
    "    \n",
    "    W = (W - mean_) / std_\n",
    "    \n",
    "    W = W * std + mean\n",
    "    \n",
    "    return x, y, W"
   ]
  },
  {
   "cell_type": "code",
   "execution_count": null,
   "id": "758baf10-da05-47e4-90dc-dee665d9c58f",
   "metadata": {},
   "outputs": [],
   "source": [
    "placements = mzi.get_netlist()['placements']\n",
    "xm, ym, wmaps = create_wafermaps(placements, correlation_length=100, mean=0.5, std=0.002, num_maps=100)\n",
    "\n",
    "for i, wmap in enumerate(wmaps):\n",
    "    plt.imshow(wmap, cmap='RdBu')\n",
    "    plt.show()\n",
    "    if i == 2:\n",
    "        break"
   ]
  },
  {
   "cell_type": "code",
   "execution_count": null,
   "id": "cc19b264-89e5-4cff-9969-2f1d9af67157",
   "metadata": {},
   "outputs": [],
   "source": [
    "def widths(xw, yw, wmaps, x, y):\n",
    "    _wmap_grid = [xw, yw]\n",
    "    params = jnp.stack(jnp.broadcast_arrays(jnp.asarray(x), jnp.asarray(y)), 0)\n",
    "    coords =_get_coordinates(_wmap_grid, params)\n",
    "    \n",
    "    map_coordinates = partial(jax.scipy.ndimage.map_coordinates, coordinates=coords, order=1, mode='nearest')\n",
    "    w = jax.vmap(map_coordinates)(wmaps)\n",
    "    return w"
   ]
  },
  {
   "cell_type": "markdown",
   "id": "37deecff-9433-4b1b-8cb7-970a414abe13",
   "metadata": {},
   "source": [
    "Let's now sample the MZI width variation on the wafer map (let's assume a single width variation per point):"
   ]
  },
  {
   "cell_type": "code",
   "execution_count": null,
   "id": "1a527bd7-17ed-4c57-90af-6816b452b190",
   "metadata": {},
   "outputs": [],
   "source": [
    "mzi_params = sax.get_settings(mzi2)\n",
    "placements = mzi.get_netlist()['placements']\n",
    "width_params = {k: {'width': widths(xm, ym, wmaps, v['x'], v['y'])} for k, v in placements.items() if 'width' in mzi_params[k]}\n",
    "\n",
    "S0 = mzi2(wl=wl)\n",
    "S = mzi2(\n",
    "    wl=wl[:,None],\n",
    "    **width_params,\n",
    ")\n",
    "ps = plt.plot(wl * 1e3, abs(S[\"o1\", \"o2\"]) ** 2, color='C0', lw=1, alpha=0.1)\n",
    "nps = plt.plot(wl * 1e3, abs(S0[\"o1\", \"o2\"]) ** 2, color='C1', lw=2, alpha=1)\n",
    "plt.xlabel(\"λ [nm]\")\n",
    "plt.ylabel(\"T\")\n",
    "plt.plot([1550, 1550], [-1, 2], color=\"black\", ls=\":\")\n",
    "plt.ylim(-0.05, 1.05)\n",
    "plt.grid(True)\n",
    "plt.figlegend([*ps[-1:], *nps], [\"MC\", \"nominal\"], bbox_to_anchor=(1.1,0.9))\n",
    "rmse = jnp.mean(jnp.abs(jnp.abs(S['o1', 'o2'])**2 - jnp.abs(S0['o1', 'o2'][:,None])**2)**2)\n",
    "plt.title(f\"{rmse=}\")\n",
    "plt.show()"
   ]
  },
  {
   "cell_type": "markdown",
   "id": "4bf4d81f-9889-40ed-8ab3-0a9ec5a0c8d0",
   "metadata": {},
   "source": [
    "## Compact MZI\n",
    "\n",
    "Let's see if we can improve variability (i.e. the RMSE w.r.t. nominal) by making the MZI more compact:"
   ]
  },
  {
   "cell_type": "code",
   "execution_count": null,
   "id": "1d31f0d4-2e6a-4c5e-945d-79f313456373",
   "metadata": {},
   "outputs": [],
   "source": [
    "@gf.cell\n",
    "def compact_mzi():\n",
    "    c = gf.Component()\n",
    "    \n",
    "    # instances\n",
    "    mmi_in = gf.components.mmi1x2()\n",
    "    mmi_out = gf.components.mmi2x2()\n",
    "    bend = gf.components.bend_euler()\n",
    "    half_delay_straight = gf.components.straight()\n",
    "    middle_straight = gf.components.straight(length=6.0)\n",
    "    half_middle_straight = gf.components.straight(3.0)\n",
    "    \n",
    "    # references (sax convention: vars ending in underscore are references)\n",
    "    mmi_in_ = c << mmi_in\n",
    "    \n",
    "    bend_top1_ = c << bend\n",
    "    straight_top1_ = c << half_delay_straight\n",
    "    bend_top2_ = (c << bend).mirror()\n",
    "    straight_top2_ = c << middle_straight\n",
    "    bend_top3_ = (c << bend).mirror()\n",
    "    straight_top3_ = c << half_delay_straight\n",
    "    bend_top4_ = c << bend\n",
    "    \n",
    "    straight_btm1_ = c << half_middle_straight\n",
    "    bend_btm1_ = c << bend\n",
    "    bend_btm2_ = (c << bend).mirror()\n",
    "    bend_btm3_ = (c << bend).mirror()\n",
    "    bend_btm4_ = c << bend\n",
    "    straight_btm2_ = c << half_middle_straight\n",
    "    \n",
    "    mmi_out_ = c << mmi_out\n",
    "\n",
    "    # connections\n",
    "    bend_top1_.connect('o1', mmi_in_.ports['o2'])\n",
    "    straight_top1_.connect('o1', bend_top1_.ports['o2'])\n",
    "    bend_top2_.connect('o1', straight_top1_.ports['o2'])\n",
    "    straight_top2_.connect('o1', bend_top2_.ports['o2'])\n",
    "    bend_top3_.connect('o1', straight_top2_.ports['o2'])\n",
    "    straight_top3_.connect('o1', bend_top3_.ports['o2'])\n",
    "    bend_top4_.connect('o1', straight_top3_.ports['o2'])\n",
    "\n",
    "    straight_btm1_.connect('o1', mmi_in_.ports['o3'])\n",
    "    bend_btm1_.connect('o1', straight_btm1_.ports['o2'])\n",
    "    bend_btm2_.connect('o1', bend_btm1_.ports['o2'])\n",
    "    bend_btm3_.connect('o1', bend_btm2_.ports['o2'])\n",
    "    bend_btm4_.connect('o1', bend_btm3_.ports['o2'])\n",
    "    straight_btm2_.connect('o1', bend_btm4_.ports['o2'])\n",
    "\n",
    "    mmi_out_.connect(\"o1\", straight_btm2_.ports['o2'])\n",
    "    \n",
    "    # ports\n",
    "    c.add_port('o1', port=mmi_in_.ports['o1'], )\n",
    "    c.add_port('o2', port=mmi_out_.ports['o3'])\n",
    "    c.add_port('o3', port=mmi_out_.ports['o4'])\n",
    "    return c"
   ]
  },
  {
   "cell_type": "code",
   "execution_count": null,
   "id": "65894956-fa15-40ba-9567-515f097fa01a",
   "metadata": {},
   "outputs": [],
   "source": [
    "compact_mzi1 = compact_mzi()\n",
    "display(compact_mzi1)\n",
    "placements = compact_mzi1.get_netlist()['placements']\n",
    "mzi3, _ = sax.circuit(compact_mzi1.get_netlist_recursive(), models=models)\n",
    "mzi3()"
   ]
  },
  {
   "cell_type": "code",
   "execution_count": null,
   "id": "1a06ec7a-9052-450e-b199-52209f08c708",
   "metadata": {},
   "outputs": [],
   "source": [
    "mzi_params = sax.get_settings(mzi3)\n",
    "placements = compact_mzi1.get_netlist()['placements']\n",
    "width_params = {k: {'width': widths(xm, ym, wmaps, v['x'], v['y'])} for k, v in placements.items() if 'width' in mzi_params[k]}\n",
    "\n",
    "S0 = mzi3(wl=wl)\n",
    "S = mzi3(\n",
    "    wl=wl[:,None],\n",
    "    **width_params,\n",
    ")\n",
    "ps = plt.plot(wl * 1e3, abs(S[\"o1\", \"o2\"]) ** 2, color='C0', lw=1, alpha=0.1)\n",
    "nps = plt.plot(wl * 1e3, abs(S0[\"o1\", \"o2\"]) ** 2, color='C1', lw=2, alpha=1)\n",
    "plt.xlabel(\"λ [nm]\")\n",
    "plt.ylabel(\"T\")\n",
    "plt.plot([1550, 1550], [-1, 2], color=\"black\", ls=\":\")\n",
    "plt.ylim(-0.05, 1.05)\n",
    "plt.grid(True)\n",
    "plt.figlegend([*ps[-1:], *nps], [\"MC\", \"nominal\"], bbox_to_anchor=(1.1,0.9))\n",
    "rmse = jnp.mean(jnp.abs(jnp.abs(S['o1', 'o2'])**2 - jnp.abs(S0['o1', 'o2'][:,None])**2)**2)\n",
    "plt.title(f\"{rmse=}\")\n",
    "plt.show()"
   ]
  }
 ],
 "metadata": {
  "kernelspec": {
   "display_name": "sax",
   "language": "python",
   "name": "sax"
  }
 },
 "nbformat": 4,
 "nbformat_minor": 5
}
