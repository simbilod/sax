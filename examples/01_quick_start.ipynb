{
 "cells": [
  {
   "cell_type": "markdown",
   "metadata": {},
   "source": [
    "# SAX Quick Start"
   ]
  },
  {
   "cell_type": "markdown",
   "metadata": {},
   "source": [
    "Let's go over the core functionality of SAX."
   ]
  },
  {
   "cell_type": "markdown",
   "metadata": {},
   "source": [
    "## Imports"
   ]
  },
  {
   "cell_type": "code",
   "execution_count": 1,
   "metadata": {},
   "outputs": [],
   "source": [
    "import tqdm\n",
    "import matplotlib.pyplot as plt\n",
    "\n",
    "import jax\n",
    "import jax.numpy as jnp\n",
    "import jax.experimental.optimizers as opt\n",
    "\n",
    "# sax circuit simulator\n",
    "import sys\n",
    "sys.path.append(\"..\")\n",
    "import sax"
   ]
  },
  {
   "cell_type": "markdown",
   "metadata": {},
   "source": [
    "## Models"
   ]
  },
  {
   "cell_type": "markdown",
   "metadata": {},
   "source": [
    "Models are simply defined by a single function per S-matrix combination. This function takes a dictionary of parameters as single argument. For example a directional coupler:"
   ]
  },
  {
   "cell_type": "code",
   "execution_count": 2,
   "metadata": {},
   "outputs": [],
   "source": [
    "def model_directional_coupler_coupling(params):\n",
    "    return 1j * params[\"coupling\"] ** 0.5\n",
    "\n",
    "def model_directional_coupler_transmission(params):\n",
    "    return (1 - params[\"coupling\"]) ** 0.5"
   ]
  },
  {
   "cell_type": "markdown",
   "metadata": {},
   "source": [
    "These model functions can then be combined into a dictionary, which basically defines the full S-matrix for a directional coupler which is defined as follows:\n",
    "\n",
    "```\n",
    " p3          p2\n",
    "   \\        /\n",
    "    ========\n",
    "   /        \\\n",
    " p0          p1\n",
    "```"
   ]
  },
  {
   "cell_type": "code",
   "execution_count": 3,
   "metadata": {},
   "outputs": [],
   "source": [
    "directional_coupler = {\n",
    "    (\"p0\", \"p1\"): model_directional_coupler_transmission,\n",
    "    (\"p1\", \"p0\"): model_directional_coupler_transmission,\n",
    "    (\"p2\", \"p3\"): model_directional_coupler_transmission,\n",
    "    (\"p3\", \"p2\"): model_directional_coupler_transmission,\n",
    "    (\"p0\", \"p2\"): model_directional_coupler_coupling,\n",
    "    (\"p2\", \"p0\"): model_directional_coupler_coupling,\n",
    "    (\"p1\", \"p3\"): model_directional_coupler_coupling,\n",
    "    (\"p3\", \"p1\"): model_directional_coupler_coupling,\n",
    "    \"default_params\": {\n",
    "        \"coupling\": 0.5\n",
    "    },\n",
    "}"
   ]
  },
  {
   "cell_type": "markdown",
   "metadata": {},
   "source": [
    "Any non-existing S-matrix combination (for example `(\"p0\", \"p3\")`) is considered to be zero. Moreover, default parameters can be defined for the full component by specifying the `\"default_params\"` key in the dictionary. Also note that ALL parameters in the parameter dictionary should be floats!"
   ]
  },
  {
   "cell_type": "markdown",
   "metadata": {},
   "source": [
    "We can do the same for a waveguide:\n",
    "\n",
    "```\n",
    " in -------- out\n",
    "```"
   ]
  },
  {
   "cell_type": "code",
   "execution_count": 4,
   "metadata": {},
   "outputs": [],
   "source": [
    "def model_waveguide_transmission(params):\n",
    "    neff = params[\"neff\"]\n",
    "    dwl = params[\"wl\"] - params[\"wl0\"]\n",
    "    dneff_dwl = (params[\"ng\"] - params[\"neff\"]) / params[\"wl0\"]\n",
    "    neff = neff - dwl * dneff_dwl\n",
    "    phase = jnp.exp(\n",
    "        jnp.log(2 * jnp.pi * neff * params[\"length\"]) - jnp.log(params[\"wl\"])\n",
    "    )\n",
    "    return 10 ** (-params[\"loss\"] * params[\"length\"] / 20) * jnp.exp(1j * phase)\n",
    "\n",
    "waveguide = {\n",
    "    (\"in\", \"out\"): model_waveguide_transmission,\n",
    "    (\"out\", \"in\"): model_waveguide_transmission,\n",
    "    \"default_params\": { # remember that ALL params should be floats!\n",
    "        \"length\": 25e-6,\n",
    "        \"wl\": 1.55e-6,\n",
    "        \"wl0\": 1.55e-6,\n",
    "        \"neff\": 2.34,\n",
    "        \"ng\": 3.4,\n",
    "        \"loss\": 0.0,\n",
    "    },\n",
    "}"
   ]
  },
  {
   "cell_type": "markdown",
   "metadata": {},
   "source": [
    "That's all you have to do to define a component! Also note that all ports of a component can be obtained with `sax.get_ports`:"
   ]
  },
  {
   "cell_type": "code",
   "execution_count": 5,
   "metadata": {},
   "outputs": [
    {
     "data": {
      "text/plain": [
       "('p0', 'p1', 'p2', 'p3')"
      ]
     },
     "execution_count": 5,
     "metadata": {},
     "output_type": "execute_result"
    }
   ],
   "source": [
    "sax.get_ports(directional_coupler)"
   ]
  },
  {
   "cell_type": "markdown",
   "metadata": {},
   "source": [
    "And ports can be renamed with `sax.rename_ports`:"
   ]
  },
  {
   "cell_type": "code",
   "execution_count": 6,
   "metadata": {},
   "outputs": [
    {
     "data": {
      "text/plain": [
       "{('in1',\n",
       "  'out1'): <function __main__.model_directional_coupler_transmission(params)>,\n",
       " ('out1',\n",
       "  'in1'): <function __main__.model_directional_coupler_transmission(params)>,\n",
       " ('out2',\n",
       "  'in2'): <function __main__.model_directional_coupler_transmission(params)>,\n",
       " ('in2',\n",
       "  'out2'): <function __main__.model_directional_coupler_transmission(params)>,\n",
       " ('in1',\n",
       "  'out2'): <function __main__.model_directional_coupler_coupling(params)>,\n",
       " ('out2',\n",
       "  'in1'): <function __main__.model_directional_coupler_coupling(params)>,\n",
       " ('out1',\n",
       "  'in2'): <function __main__.model_directional_coupler_coupling(params)>,\n",
       " ('in2',\n",
       "  'out1'): <function __main__.model_directional_coupler_coupling(params)>,\n",
       " 'default_params': {'coupling': 0.5}}"
      ]
     },
     "execution_count": 6,
     "metadata": {},
     "output_type": "execute_result"
    }
   ],
   "source": [
    "directional_coupler2 = sax.rename_ports(\n",
    "    model=directional_coupler,\n",
    "    ports={\n",
    "        \"p0\": \"in1\", \n",
    "        \"p1\": \"out1\", \n",
    "        \"p2\": \"out2\", \n",
    "        \"p3\": \"in2\"\n",
    "    }\n",
    ")\n",
    "directional_coupler2"
   ]
  },
  {
   "cell_type": "markdown",
   "metadata": {},
   "source": [
    "Note that this NEVER changes anything inplace. The original directional coupler dictionary is still intact:"
   ]
  },
  {
   "cell_type": "code",
   "execution_count": 7,
   "metadata": {},
   "outputs": [
    {
     "data": {
      "text/plain": [
       "{('p0',\n",
       "  'p1'): <function __main__.model_directional_coupler_transmission(params)>,\n",
       " ('p1',\n",
       "  'p0'): <function __main__.model_directional_coupler_transmission(params)>,\n",
       " ('p2',\n",
       "  'p3'): <function __main__.model_directional_coupler_transmission(params)>,\n",
       " ('p3',\n",
       "  'p2'): <function __main__.model_directional_coupler_transmission(params)>,\n",
       " ('p0', 'p2'): <function __main__.model_directional_coupler_coupling(params)>,\n",
       " ('p2', 'p0'): <function __main__.model_directional_coupler_coupling(params)>,\n",
       " ('p1', 'p3'): <function __main__.model_directional_coupler_coupling(params)>,\n",
       " ('p3', 'p1'): <function __main__.model_directional_coupler_coupling(params)>,\n",
       " 'default_params': {'coupling': 0.5}}"
      ]
     },
     "execution_count": 7,
     "metadata": {},
     "output_type": "execute_result"
    }
   ],
   "source": [
    "directional_coupler"
   ]
  },
  {
   "cell_type": "markdown",
   "metadata": {},
   "source": [
    "## Circuits"
   ]
  },
  {
   "cell_type": "markdown",
   "metadata": {},
   "source": [
    "Circuits can be created with `sax.circuit`. This function takes three required arguments: `models`, `connections` and `ports`. These are all supposed to be dictionaries. The `models` dictionary describes the individual models and their name in the circuit. Note that a circuit is itself also a model, which allows you to define hierarchical circuits. The `connections` dictionary describes the connections between individual model ports. The model ports are defined as `\"{modelname}:{portname}\"`. Finally, the ports dictionary defines a mapping from the unused ports in the `\"{modelname}:{portname}\"` format back onto a single `\"{portname}\"`.\n",
    "\n",
    "```\n",
    "                              top\n",
    "                          in ----- out\n",
    "    in2 <- p3         p2                 p3         p2 -> out2\n",
    "             \\  dc1  /                     \\  dc2  /\n",
    "              =======                       =======\n",
    "             /       \\                     /       \\\n",
    "    in1 <- p0         p1      btm       p0          p1 -> out1\n",
    "                          in ----- out\n",
    "```"
   ]
  },
  {
   "cell_type": "code",
   "execution_count": 8,
   "metadata": {},
   "outputs": [],
   "source": [
    "mzi = sax.circuit(\n",
    "    models = {\n",
    "        \"dc1\": directional_coupler,\n",
    "        \"top\": waveguide,\n",
    "        \"dc2\": directional_coupler,\n",
    "        \"btm\": waveguide,\n",
    "    },\n",
    "    connections={\n",
    "        \"dc1:p2\": \"top:in\",\n",
    "        \"dc1:p1\": \"btm:in\",\n",
    "        \"top:out\": \"dc2:p3\",\n",
    "        \"btm:out\": \"dc2:p0\",\n",
    "    },\n",
    "    ports={\n",
    "        \"dc1:p3\": \"in2\",\n",
    "        \"dc1:p0\": \"in1\",\n",
    "        \"dc2:p2\": \"out2\",\n",
    "        \"dc2:p1\": \"out1\",\n",
    "    },\n",
    ")"
   ]
  },
  {
   "cell_type": "markdown",
   "metadata": {},
   "source": [
    "As you can see, the `mzi` circuit is just a dictionary of individual functions as well:"
   ]
  },
  {
   "cell_type": "code",
   "execution_count": 9,
   "metadata": {},
   "outputs": [
    {
     "data": {
      "text/plain": [
       "{'default_params': {'dc2': {'coupling': 0.5},\n",
       "  'btm': {'length': 2.5e-05,\n",
       "   'wl': 1.55e-06,\n",
       "   'wl0': 1.55e-06,\n",
       "   'neff': 2.34,\n",
       "   'ng': 3.4,\n",
       "   'loss': 0.0},\n",
       "  'dc1': {'coupling': 0.5},\n",
       "  'top': {'length': 2.5e-05,\n",
       "   'wl': 1.55e-06,\n",
       "   'wl0': 1.55e-06,\n",
       "   'neff': 2.34,\n",
       "   'ng': 3.4,\n",
       "   'loss': 0.0}},\n",
       " ('out1', 'in1'): <function _model_ijkl at 0x7f5e504009e0>,\n",
       " ('out1', 'in2'): <function _model_ijkl at 0x7f5e504009e0>,\n",
       " ('in1', 'out1'): <function _model_ijkl at 0x7f5e504009e0>,\n",
       " ('in1', 'out2'): <function _model_ijkl at 0x7f5e504009e0>,\n",
       " ('in2', 'out1'): <function _model_ijkl at 0x7f5e504009e0>,\n",
       " ('in2', 'out2'): <function _model_ijkl at 0x7f5e504009e0>,\n",
       " ('out2', 'in1'): <function _model_ijkl at 0x7f5e504009e0>,\n",
       " ('out2', 'in2'): <function _model_ijkl at 0x7f5e504009e0>}"
      ]
     },
     "execution_count": 9,
     "metadata": {},
     "output_type": "execute_result"
    }
   ],
   "source": [
    "mzi"
   ]
  },
  {
   "cell_type": "markdown",
   "metadata": {},
   "source": [
    "As you can see, as for the individual components it's only defined for nonzero connections!"
   ]
  },
  {
   "cell_type": "markdown",
   "metadata": {},
   "source": [
    "It also has default parameters for each of its subcomponents:"
   ]
  },
  {
   "cell_type": "code",
   "execution_count": 10,
   "metadata": {},
   "outputs": [
    {
     "data": {
      "text/plain": [
       "{'dc2': {'coupling': 0.5},\n",
       " 'btm': {'length': 2.5e-05,\n",
       "  'wl': 1.55e-06,\n",
       "  'wl0': 1.55e-06,\n",
       "  'neff': 2.34,\n",
       "  'ng': 3.4,\n",
       "  'loss': 0.0},\n",
       " 'dc1': {'coupling': 0.5},\n",
       " 'top': {'length': 2.5e-05,\n",
       "  'wl': 1.55e-06,\n",
       "  'wl0': 1.55e-06,\n",
       "  'neff': 2.34,\n",
       "  'ng': 3.4,\n",
       "  'loss': 0.0}}"
      ]
     },
     "execution_count": 10,
     "metadata": {},
     "output_type": "execute_result"
    }
   ],
   "source": [
    "params = mzi[\"default_params\"]\n",
    "params"
   ]
  },
  {
   "cell_type": "markdown",
   "metadata": {},
   "source": [
    "## Simulating the MZI"
   ]
  },
  {
   "cell_type": "markdown",
   "metadata": {},
   "source": [
    "To simulate the MZI, we first need to update the parameters. To do this, we first copy the params dictionary after which we can update it inplace:"
   ]
  },
  {
   "cell_type": "code",
   "execution_count": 11,
   "metadata": {},
   "outputs": [],
   "source": [
    "params = sax.copy_params(params)\n",
    "params[\"btm\"][\"length\"] = 1.5e-5 # make the bottom length shorter"
   ]
  },
  {
   "cell_type": "markdown",
   "metadata": {},
   "source": [
    "Moreover, we want to simulate over a range of wavelengths. To set the wavelength globally for all subcomponents of the circuit, we use `sax.set_global_params`:"
   ]
  },
  {
   "cell_type": "code",
   "execution_count": null,
   "metadata": {},
   "outputs": [],
   "source": [
    "params = sax.set_global_params(params, wl=1e-6*jnp.linspace(1.51, 1.59, 500))"
   ]
  },
  {
   "cell_type": "markdown",
   "metadata": {},
   "source": [
    "This sets the wavelength `wl` parameter for all subcomponents in the circuit."
   ]
  },
  {
   "cell_type": "markdown",
   "metadata": {},
   "source": [
    "Assume we're interested in simulating the `in1 -> out1` transmission. In this case our function of interest is given by the following:"
   ]
  },
  {
   "cell_type": "code",
   "execution_count": 15,
   "metadata": {},
   "outputs": [],
   "source": [
    "mzi_in1_out1 = mzi[\"in1\",\"out1\"]"
   ]
  },
  {
   "cell_type": "markdown",
   "metadata": {},
   "source": [
    "We can just-in-time (jit) compile this function for better performance:"
   ]
  },
  {
   "cell_type": "code",
   "execution_count": 16,
   "metadata": {},
   "outputs": [],
   "source": [
    "mzi_in1_out1 = jax.jit(mzi[\"in1\", \"out1\"])"
   ]
  },
  {
   "cell_type": "markdown",
   "metadata": {},
   "source": [
    "The first time you simulate, the function will be jitted and the simulation will be a bit slower:"
   ]
  },
  {
   "cell_type": "code",
   "execution_count": 17,
   "metadata": {},
   "outputs": [
    {
     "name": "stdout",
     "output_type": "stream",
     "text": [
      "CPU times: user 196 ms, sys: 6.6 ms, total: 202 ms\n",
      "Wall time: 202 ms\n"
     ]
    }
   ],
   "source": [
    "%time detected = mzi_in1_out1(params)"
   ]
  },
  {
   "cell_type": "markdown",
   "metadata": {},
   "source": [
    "The second time you simulate the simulation is really fast:"
   ]
  },
  {
   "cell_type": "code",
   "execution_count": 18,
   "metadata": {},
   "outputs": [
    {
     "name": "stdout",
     "output_type": "stream",
     "text": [
      "CPU times: user 3.11 ms, sys: 381 µs, total: 3.5 ms\n",
      "Wall time: 1.99 ms\n"
     ]
    }
   ],
   "source": [
    "%time detected = mzi_in1_out1(params)"
   ]
  },
  {
   "cell_type": "markdown",
   "metadata": {},
   "source": [
    "Even if you change the parameters:"
   ]
  },
  {
   "cell_type": "code",
   "execution_count": 19,
   "metadata": {},
   "outputs": [
    {
     "name": "stdout",
     "output_type": "stream",
     "text": [
      "CPU times: user 837 µs, sys: 0 ns, total: 837 µs\n",
      "Wall time: 668 µs\n"
     ]
    }
   ],
   "source": [
    "params = sax.set_global_params(params, wl=1e-6*jnp.linspace(1.5, 1.6, 500))\n",
    "%time detected = mzi_in1_out1(params)"
   ]
  },
  {
   "cell_type": "markdown",
   "metadata": {},
   "source": [
    "**Unless the shape of one of the parameters changes**, then the model needs to be jit-compiled again"
   ]
  },
  {
   "cell_type": "code",
   "execution_count": 20,
   "metadata": {},
   "outputs": [
    {
     "name": "stdout",
     "output_type": "stream",
     "text": [
      "CPU times: user 113 ms, sys: 1.2 ms, total: 115 ms\n",
      "Wall time: 117 ms\n"
     ]
    }
   ],
   "source": [
    "params = sax.set_global_params(params, wl=1e-6*jnp.linspace(1.5, 1.6, 1000))\n",
    "%time detected = mzi_in1_out1(params)"
   ]
  },
  {
   "cell_type": "markdown",
   "metadata": {},
   "source": [
    "Luckily, now both shapes yield fast computations (we don't lose the old jit-compiled model):"
   ]
  },
  {
   "cell_type": "code",
   "execution_count": 21,
   "metadata": {},
   "outputs": [
    {
     "name": "stdout",
     "output_type": "stream",
     "text": [
      "CPU times: user 0 ns, sys: 666 µs, total: 666 µs\n",
      "Wall time: 530 µs\n",
      "CPU times: user 471 µs, sys: 119 µs, total: 590 µs\n",
      "Wall time: 426 µs\n"
     ]
    }
   ],
   "source": [
    "params = sax.set_global_params(params, wl=1e-6*jnp.linspace(1.5, 1.6, 500))\n",
    "%time detected = mzi_in1_out1(params)\n",
    "params = sax.set_global_params(params, wl=1e-6*jnp.linspace(1.5, 1.6, 1000))\n",
    "%time detected = mzi_in1_out1(params)"
   ]
  },
  {
   "cell_type": "markdown",
   "metadata": {},
   "source": [
    "Anyway, let's see what this gives:"
   ]
  },
  {
   "cell_type": "code",
   "execution_count": 22,
   "metadata": {},
   "outputs": [
    {
     "data": {
      "image/png": "[encoded data removed]",
      "text/plain": [
       "<Figure size 432x288 with 1 Axes>"
      ]
     },
     "metadata": {
      "needs_background": "light"
     },
     "output_type": "display_data"
    }
   ],
   "source": [
    "plt.plot(params[\"top\"][\"wl\"], abs(detected)**2)\n",
    "plt.ylim(-0.05, 1.05)\n",
    "plt.xlabel(\"λ [nm]\")\n",
    "plt.ylabel(\"T\")\n",
    "plt.ylim(-0.05, 1.05)\n",
    "plt.show()"
   ]
  },
  {
   "cell_type": "markdown",
   "metadata": {},
   "source": [
    "## Optimization"
   ]
  },
  {
   "cell_type": "markdown",
   "metadata": {},
   "source": [
    "We'd like to optimize an MZI such that one of the minima is at 1550nm. To do this, we need to define a loss function for the circuit at 1550nm. This function should take the parameters that you want to optimize as positional arguments:"
   ]
  },
  {
   "cell_type": "code",
   "execution_count": 23,
   "metadata": {},
   "outputs": [],
   "source": [
    "@jax.jit\n",
    "def loss(delta_length):\n",
    "    params = sax.set_global_params(mzi[\"default_params\"], wl=1.55e-6)\n",
    "    params[\"top\"][\"length\"] = 1.5e-6 + delta_length\n",
    "    params[\"btm\"][\"length\"] = 1.5e-6\n",
    "    detected = mzi[\"in1\", \"out1\"](params)\n",
    "    return (abs(detected)**2).mean()"
   ]
  },
  {
   "cell_type": "code",
   "execution_count": 24,
   "metadata": {},
   "outputs": [
    {
     "name": "stdout",
     "output_type": "stream",
     "text": [
      "CPU times: user 94.6 ms, sys: 1.35 ms, total: 95.9 ms\n",
      "Wall time: 94.3 ms\n"
     ]
    },
    {
     "data": {
      "text/plain": [
       "DeviceArray(0.08960341, dtype=float32)"
      ]
     },
     "execution_count": 24,
     "metadata": {},
     "output_type": "execute_result"
    }
   ],
   "source": [
    "%time loss(10e-6)"
   ]
  },
  {
   "cell_type": "markdown",
   "metadata": {},
   "source": [
    "We can use this loss function to define a grad function which works on the parameters of the loss function:"
   ]
  },
  {
   "cell_type": "code",
   "execution_count": 25,
   "metadata": {},
   "outputs": [],
   "source": [
    "grad = jax.jit(jax.grad(loss))"
   ]
  },
  {
   "cell_type": "code",
   "execution_count": 26,
   "metadata": {},
   "outputs": [
    {
     "name": "stdout",
     "output_type": "stream",
     "text": [
      "CPU times: user 152 ms, sys: 0 ns, total: 152 ms\n",
      "Wall time: 149 ms\n"
     ]
    },
    {
     "data": {
      "text/plain": [
       "DeviceArray(2709202., dtype=float32)"
      ]
     },
     "execution_count": 26,
     "metadata": {},
     "output_type": "execute_result"
    }
   ],
   "source": [
    "%time grad(10e-6)"
   ]
  },
  {
   "cell_type": "markdown",
   "metadata": {},
   "source": [
    "Next, we need to define a JAX optimizer, which on its own is nothing more than three more functions:  an initialization function with which to initialize the optimizer state, an update function which will update the optimizer state (and with it the model parameters). The third function that's being returned will give the model parameters given the optimizer state."
   ]
  },
  {
   "cell_type": "code",
   "execution_count": 27,
   "metadata": {},
   "outputs": [],
   "source": [
    "initial_delta_length = 10e-6\n",
    "optim_init, optim_update, optim_params = opt.adam(step_size=1e-7)\n",
    "optim_state = optim_init(initial_delta_length)"
   ]
  },
  {
   "cell_type": "markdown",
   "metadata": {},
   "source": [
    "Given all this, a single training step can be defined:"
   ]
  },
  {
   "cell_type": "code",
   "execution_count": 28,
   "metadata": {},
   "outputs": [],
   "source": [
    "@jax.jit\n",
    "def train_step(step, optim_state):\n",
    "    params = optim_params(optim_state)\n",
    "    lossvalue = loss(params)\n",
    "    gradvalue = grad(params)\n",
    "    optim_state = optim_update(step, gradvalue, optim_state)\n",
    "    return lossvalue, optim_state"
   ]
  },
  {
   "cell_type": "markdown",
   "metadata": {},
   "source": [
    "And we can use this step function to start the training of the MZI:"
   ]
  },
  {
   "cell_type": "code",
   "execution_count": 29,
   "metadata": {},
   "outputs": [
    {
     "name": "stderr",
     "output_type": "stream",
     "text": [
      "100%|██████████| 1000/1000 [00:01<00:00, 902.15it/s, loss=0.000000]\n"
     ]
    }
   ],
   "source": [
    "range_ = tqdm.trange(1000)\n",
    "for step in range_:\n",
    "    lossvalue, optim_state = train_step(step, optim_state)\n",
    "    range_.set_postfix(loss=f\"{lossvalue:.6f}\")"
   ]
  },
  {
   "cell_type": "code",
   "execution_count": 30,
   "metadata": {},
   "outputs": [
    {
     "data": {
      "text/plain": [
       "DeviceArray(9.935926e-06, dtype=float32)"
      ]
     },
     "execution_count": 30,
     "metadata": {},
     "output_type": "execute_result"
    }
   ],
   "source": [
    "delta_length = optim_params(optim_state)\n",
    "delta_length"
   ]
  },
  {
   "cell_type": "markdown",
   "metadata": {},
   "source": [
    "Let's see what we've got over a range of wavelengths:"
   ]
  },
  {
   "cell_type": "code",
   "execution_count": 31,
   "metadata": {},
   "outputs": [
    {
     "data": {
      "image/png": "[encoded data removed]",
      "text/plain": [
       "<Figure size 432x288 with 1 Axes>"
      ]
     },
     "metadata": {
      "needs_background": "light"
     },
     "output_type": "display_data"
    }
   ],
   "source": [
    "params = sax.set_global_params(mzi[\"default_params\"], wl=1e-6*jnp.linspace(1.5, 1.6, 1000))\n",
    "params[\"top\"][\"length\"] = 1.5e-5 + delta_length\n",
    "params[\"btm\"][\"length\"] = 1.5e-5\n",
    "detected = mzi[\"in1\", \"out1\"](params)\n",
    "plt.plot(params[\"top\"][\"wl\"]*1e9, abs(detected)**2)\n",
    "plt.xlabel(\"λ [nm]\")\n",
    "plt.ylabel(\"T\")\n",
    "plt.ylim(-0.05, 1.05)\n",
    "plt.plot([1550, 1550], [0,1])\n",
    "plt.show()"
   ]
  },
  {
   "cell_type": "markdown",
   "metadata": {},
   "source": [
    "The minimum of the MZI is perfectly located at 1550nm."
   ]
  },
  {
   "cell_type": "markdown",
   "metadata": {},
   "source": [
    "## MZI Chain"
   ]
  },
  {
   "cell_type": "markdown",
   "metadata": {},
   "source": [
    "Let's now create a chain of MZIs. For this, we first create a subcomponent: a directional coupler with arms:\n",
    "\n",
    "\n",
    "```\n",
    "                             top\n",
    "                         in ----- out -> out2\n",
    "    in2 <- p3        p2                 \n",
    "             \\  dc  /                  \n",
    "              ======                  \n",
    "             /      \\                \n",
    "    in1 <- p0        p1      btm    \n",
    "                         in ----- out -> out1\n",
    "```"
   ]
  },
  {
   "cell_type": "code",
   "execution_count": 32,
   "metadata": {},
   "outputs": [],
   "source": [
    "directional_coupler_with_arms = sax.circuit(\n",
    "    models = {\n",
    "        \"dc\": sax.models.directional_coupler,\n",
    "        \"top\": sax.models.waveguide,\n",
    "        \"btm\": sax.models.waveguide,\n",
    "    },\n",
    "    connections={\n",
    "        \"dc:p2\": \"top:in\",\n",
    "        \"dc:p1\": \"btm:in\",\n",
    "    },\n",
    "    ports={\n",
    "        \"dc:p3\": \"in2\",\n",
    "        \"dc:p0\": \"in1\",\n",
    "        \"top:out\": \"out2\",\n",
    "        \"btm:out\": \"out1\",\n",
    "    },\n",
    ")"
   ]
  },
  {
   "cell_type": "markdown",
   "metadata": {},
   "source": [
    "An MZI chain can now be created by cascading these directional couplers with arms:\n",
    "\n",
    "```\n",
    "      _    _    _    _             _    _  \n",
    "    \\/   \\/   \\/   \\/     ...    \\/   \\/   \n",
    "    /\\_  /\\_  /\\_  /\\_           /\\_  /\\_  \n",
    "```"
   ]
  },
  {
   "cell_type": "code",
   "execution_count": 33,
   "metadata": {},
   "outputs": [],
   "source": [
    "def mzi_chain(num_mzis=1):\n",
    "    chain = sax.circuit(\n",
    "        models = {f\"dc{i}\": directional_coupler_with_arms for i in range(num_mzis+1)},\n",
    "        connections = {\n",
    "            **{f\"dc{i}:out1\":f\"dc{i+1}:in1\" for i in range(num_mzis)},\n",
    "            **{f\"dc{i}:out2\":f\"dc{i+1}:in2\" for i in range(num_mzis)},\n",
    "        },\n",
    "        ports = {\n",
    "            \"dc0:in1\": \"in1\",\n",
    "            \"dc0:in2\": \"in2\",\n",
    "            f\"dc{num_mzis}:out1\": \"out1\",\n",
    "            f\"dc{num_mzis}:out2\": \"out2\",\n",
    "        },\n",
    "    )\n",
    "    return chain"
   ]
  },
  {
   "cell_type": "markdown",
   "metadata": {},
   "source": [
    "Let's for example create a chain with 15 MZIs:"
   ]
  },
  {
   "cell_type": "code",
   "execution_count": 34,
   "metadata": {},
   "outputs": [],
   "source": [
    "chain = mzi_chain(num_mzis=15)\n",
    "params = sax.copy_params(chain[\"default_params\"])\n",
    "for dc in params:\n",
    "    params[dc][\"btm\"][\"length\"] = 1.5e-5\n",
    "params = sax.set_global_params(params, wl=1e-6*jnp.linspace(1.5, 1.6, 1000))"
   ]
  },
  {
   "cell_type": "markdown",
   "metadata": {},
   "source": [
    "We can simulate this again:"
   ]
  },
  {
   "cell_type": "code",
   "execution_count": 35,
   "metadata": {},
   "outputs": [
    {
     "name": "stdout",
     "output_type": "stream",
     "text": [
      "CPU times: user 5.57 s, sys: 636 ms, total: 6.21 s\n",
      "Wall time: 4.88 s\n"
     ]
    }
   ],
   "source": [
    "%time detected = chain[\"in1\", \"out1\"](params)"
   ]
  },
  {
   "cell_type": "markdown",
   "metadata": {},
   "source": [
    "This takes a few seconds to simulate, so maybe it's worth jitting:"
   ]
  },
  {
   "cell_type": "code",
   "execution_count": 36,
   "metadata": {},
   "outputs": [],
   "source": [
    "chain_in1_out1 = jax.jit(chain[\"in1\", \"out1\"])"
   ]
  },
  {
   "cell_type": "code",
   "execution_count": 37,
   "metadata": {},
   "outputs": [
    {
     "name": "stdout",
     "output_type": "stream",
     "text": [
      "CPU times: user 28.6 s, sys: 420 ms, total: 29 s\n",
      "Wall time: 29 s\n"
     ]
    }
   ],
   "source": [
    "%time detected = chain_in1_out1(params)"
   ]
  },
  {
   "cell_type": "markdown",
   "metadata": {},
   "source": [
    "Jit-compiling the function took even longer! However, after the jit-operation the simulation of the MZI chain becomes really fast:"
   ]
  },
  {
   "cell_type": "code",
   "execution_count": 38,
   "metadata": {},
   "outputs": [
    {
     "name": "stdout",
     "output_type": "stream",
     "text": [
      "CPU times: user 20 ms, sys: 1.11 ms, total: 21.1 ms\n",
      "Wall time: 13.1 ms\n"
     ]
    }
   ],
   "source": [
    "%time detected = chain_in1_out1(params)"
   ]
  },
  {
   "cell_type": "markdown",
   "metadata": {},
   "source": [
    "Anyway, let's see what this gives:"
   ]
  },
  {
   "cell_type": "code",
   "execution_count": 39,
   "metadata": {},
   "outputs": [
    {
     "data": {
      "image/png": "[encoded data removed]",
      "text/plain": [
       "<Figure size 432x288 with 1 Axes>"
      ]
     },
     "metadata": {
      "needs_background": "light"
     },
     "output_type": "display_data"
    }
   ],
   "source": [
    "plt.plot(1e9*params[\"dc0\"][\"top\"][\"wl\"], abs(detected)**2)\n",
    "plt.ylim(-0.05, 1.05)\n",
    "plt.xlabel(\"λ [nm]\")\n",
    "plt.ylabel(\"T\")\n",
    "plt.ylim(-0.05, 1.05)\n",
    "plt.show()"
   ]
  },
  {
   "cell_type": "code",
   "execution_count": null,
   "metadata": {},
   "outputs": [],
   "source": []
  }
 ],
 "metadata": {
  "kernelspec": {
   "display_name": "thinfilmjax",
   "language": "python",
   "name": "thinfilmjax"
  },
  "language_info": {
   "codemirror_mode": {
    "name": "ipython",
    "version": 3
   },
   "file_extension": ".py",
   "mimetype": "text/x-python",
   "name": "python",
   "nbconvert_exporter": "python",
   "pygments_lexer": "ipython3",
   "version": "3.7.9"
  }
 },
 "nbformat": 4,
 "nbformat_minor": 4
}
